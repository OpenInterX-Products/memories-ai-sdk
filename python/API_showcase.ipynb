{
 "cells": [
  {
   "cell_type": "markdown",
   "id": "9794ffd7",
   "metadata": {},
   "source": [
    "# Welcome — Using the Memories.AI API\n",
    "\n",
    "This Jupyter notebook guides you through using the [Memories.AI API](https:memories.ai/docs). It contains upload, search, videochat, transcibe, and several utility tools, for you to run and adapt."
   ]
  },
  {
   "cell_type": "markdown",
   "id": "a6ae206d",
   "metadata": {},
   "source": [
    "## Prerequisites\n",
    "\n",
    "- Python 3.8+ running in a Jupyter environment (Notebook, JupyterLab, or Colab).\n",
    "- Package:\n",
    "  - `requests`\n",
    "\n",
    "- An API key: Save it here.\n"
   ]
  },
  {
   "cell_type": "code",
   "execution_count": null,
   "id": "4c4c670d",
   "metadata": {},
   "outputs": [],
   "source": [
    "API_KEY = \"\" # Your memories.ai API key"
   ]
  },
  {
   "cell_type": "markdown",
   "id": "ed007ff8",
   "metadata": {},
   "source": [
    "This is an example video (and its URL) that we will be working on. You can click run and see the video.\n"
   ]
  },
  {
   "cell_type": "code",
   "execution_count": null,
   "id": "04f7b1b8",
   "metadata": {},
   "outputs": [
    {
     "data": {
      "text/html": [
       "\n",
       "<div style=\"max-width:720px;\">\n",
       "  <video controls playsinline style=\"width:100%; height:auto;\" preload=\"metadata\" poster=\"\">\n",
       "    <source src=\"https://commondatastorage.googleapis.com/gtv-videos-bucket/sample/ElephantsDream.mp4\" type=\"video/mp4\">\n",
       "    Your browser does not support HTML5 video. <a href=\"https://commondatastorage.googleapis.com/gtv-videos-bucket/sample/ElephantsDream.mp4\">Download</a>\n",
       "  </video>\n",
       "</div>\n"
      ],
      "text/plain": [
       "<IPython.core.display.HTML object>"
      ]
     },
     "metadata": {},
     "output_type": "display_data"
    }
   ],
   "source": [
    "from IPython.display import HTML\n",
    "# Note that you don't need to modify this block.\n",
    "VIDEO_URL = \"https://commondatastorage.googleapis.com/gtv-videos-bucket/sample/ElephantsDream.mp4\"\n",
    "\n",
    "html = f\"\"\"\n",
    "<div style=\"max-width:720px;\">\n",
    "  <video controls playsinline style=\"width:100%; height:auto;\" preload=\"metadata\" poster=\"\">\n",
    "    <source src=\"{VIDEO_URL}\" type=\"video/mp4\">\n",
    "    Your browser does not support HTML5 video. <a href=\"{VIDEO_URL}\">Download</a>\n",
    "  </video>\n",
    "</div>\n",
    "\"\"\"\n",
    "display(HTML(html))"
   ]
  },
  {
   "cell_type": "markdown",
   "id": "763debf2",
   "metadata": {},
   "source": [
    "## Upload\n",
    "\n",
    "Let’s start by uploading the video from the URL shown above.\n",
    "\n",
    "If the upload is successful, the returned JSON will include:\n",
    "\n",
    "```json\n",
    "\"videoNo\": \"...\",\n",
    "\"videoName\": \"...\",\n",
    "\"success\": true\n"
   ]
  },
  {
   "cell_type": "code",
   "execution_count": null,
   "id": "f462df39",
   "metadata": {},
   "outputs": [
    {
     "name": "stdout",
     "output_type": "stream",
     "text": [
      "{'code': '0000', 'msg': 'success', 'data': {'videoNo': 'VI611471886560694272', 'videoName': 'ElephantsDream'}, 'success': True, 'failed': False}\n"
     ]
    }
   ],
   "source": [
    "import requests  \n",
    "headers = {\"Authorization\": API_KEY} \n",
    "\n",
    "# Video file details  \n",
    "data = {  \n",
    "    \"url\": \"http://commondatastorage.googleapis.com/gtv-videos-bucket/sample/ElephantsDream.mp4\"\n",
    "    # \"callback\": \"<YOUR_CALLBACK_URI>\" # Optional\n",
    "}  \n",
    "\n",
    "response = requests.post(  \n",
    "    \"https://api.memories.ai/serve/api/video/upload_url\",  \n",
    "    data=data,  \n",
    "    headers=headers  \n",
    ")  \n",
    "\n",
    "print(response.json())  "
   ]
  },
  {
   "cell_type": "markdown",
   "id": "d8e19bad",
   "metadata": {},
   "source": [
    "## Check video parsing status\n",
    "\n",
    "Before proceeding, confirm that the video has been fully parsed by our model.  \n",
    "\n",
    "Run the next code cell to check the status.  \n",
    "Continue only when you see:\n",
    "\n",
    "```json\n",
    "\"status\": \"PARSE\""
   ]
  },
  {
   "cell_type": "code",
   "execution_count": null,
   "id": "2b1855f4",
   "metadata": {},
   "outputs": [
    {
     "name": "stdout",
     "output_type": "stream",
     "text": [
      "{'code': '0000', 'msg': 'success', 'data': {'videos': [{'duration': '653', 'size': '169612362', 'status': 'PARSE', 'cause': 'null', 'video_no': 'VI611471886560694272', 'video_name': 'ElephantsDream', 'create_time': '1755245460412'}], 'current_page': 1, 'page_size': 200, 'total_count': '1'}, 'success': True, 'failed': False}\n"
     ]
    }
   ],
   "source": [
    "headers = {\"Authorization\": API_KEY} \n",
    "params = {\n",
    "    \"video_no\": \"VI611471886560694272\"  # Replace with the actual video number from the upload response,\n",
    "}\n",
    "response = requests.post(\"https://api.memories.ai/serve/api/video/list_videos\", headers=headers, json=params)\n",
    "print(response.json())"
   ]
  },
  {
   "cell_type": "markdown",
   "id": "44c260e4",
   "metadata": {},
   "source": [
    "## Search\n",
    "\n",
    "You can perform a **semantic search** across all uploaded videos to find the most relevant matches.\n",
    "\n",
    "In this example, we’ll search for the video we just uploaded by providing a short text description of its content.\n"
   ]
  },
  {
   "cell_type": "code",
   "execution_count": null,
   "id": "a5274bc3",
   "metadata": {},
   "outputs": [
    {
     "name": "stdout",
     "output_type": "stream",
     "text": [
      "{'code': '0000', 'msg': 'success', 'data': [{'videoNo': 'VI611471886560694272', 'videoName': 'ElephantsDream', 'startTime': 'null', 'endTime': 'null'}, {'videoNo': 'VI611145110490705920', 'videoName': 'ElephantsDream', 'startTime': 'null', 'endTime': 'null'}, {'videoNo': 'VI605983006653673472', 'videoName': '足球', 'startTime': 'null', 'endTime': 'null'}], 'failed': False, 'success': True}\n"
     ]
    }
   ],
   "source": [
    "headers = {\"Authorization\": API_KEY} \n",
    "json_body = {\n",
    "    \"search_param\": \"Proog (an older guide) and Emo (a younger protege) explore a surreal, vast machine\",  # The search query\n",
    "    \"search_type\": \"BY_VIDEO\" # 'BY_AUDIO' or 'BY_VIDEO' or 'BY_CLIP'\n",
    "}\n",
    "\n",
    "response = requests.post(\n",
    "    \"https://api.memories.ai/serve/api/video/search\",\n",
    "    headers=headers,\n",
    "    json=json_body\n",
    ")\n",
    "\n",
    "print(response.json())"
   ]
  },
  {
   "cell_type": "markdown",
   "id": "f4b58592",
   "metadata": {},
   "source": [
    "## VideoChat Prompt Example\n",
    "\n",
    "You can interact with the **Memories.AI Chat API** to ask questions about a specific video.\n",
    "\n",
    "In the example below, we’ll send a promptregarding highlights to the API and receive a response generated from the video’s parsed content.\n"
   ]
  },
  {
   "cell_type": "code",
   "execution_count": 16,
   "id": "4c616acf",
   "metadata": {},
   "outputs": [
    {
     "name": "stdout",
     "output_type": "stream",
     "text": [
      "{\"code\":\"0000\",\"msg\":\"success\",\"data\":{\"role\":\"ASSISTANT\",\"content\":\"Here are the key highlights with timestamps (approximate) and why each moment matters — prioritized by narrative importance.\\n\\nHighlights & timestamps\\n- 00:00–00:30 — Opening atmosphere\\n  - What happens: Opens on a surreal, metallic world of wires, lights and suspended platforms that establishes tone and scale.\\n  - Why it matters: Sets the film’s mood and visual language — ominous, mechanical, labyrinthine.\\n\\n- 00:30–02:00 — Introduction of the two characters\\n  - What happens: Proog (older, bald man in a dark green coat) and Emo (younger, gaunt man in a light tunic) appear and begin interacting.\\n  - Why it matters: Establishes the mentor/guide dynamic and their contrasting attitudes toward the machine.\\n\\n- 02:00–04:30 — Exploration of the machinery and environment\\n  - What happens: The pair move across pathways and platforms, encounter metallic bird-like figures, spinning cylinders, and tentacle-like vines.\\n  - Why it matters: Deepens the worldbuilding and visual metaphors for control, entanglement, and wonder.\\n\\n- 04:30–07:00 — Argument about perception and “the machine”\\n  - What happens: Emo struggles to perceive the machine’s “beauty” and “perfection”; Proog insists it exists and urges trust.\\n  - Notable quote: “Listen to the sounds of the machine, learn to listen, close your eyes to understand. Trust the machine.” — Orange Open Movie Project\\n  - Why it matters: Central thematic confrontation — belief versus skepticism; sets up the film’s moral/interpretive core.\\n\\n- 07:00–09:00 — Trap revealed / mythic references\\n  - What happens: The machine’s danger is revealed; imagery and spoken references invoke the “Hanging Gardens of Babylon” and the “Colossus of Rhodos.”\\n  - Why it matters: The stakes escalate from philosophical debate to physical peril; mythic references frame the machine as seductive and ruinous.\\n\\n- 09:00–End — Final exhortation and credits\\n  - What happens: The film closes with an unresolved ending and the words “To be continued…,” followed by credits listing the Orange Open Movie Team, supporters, and open-source software acknowledgements.\\n  - Notable quote: “To be continued…” — Orange Open Movie Project\\n  - Why it matters: Leaves the narrative open and emphasizes the film’s collaborative, open-source production context.\\n\\nSource (quoted lines)\\n- “Listen to the sounds of the machine, learn to listen, close your eyes to understand. Trust the machine.” — Orange Open Movie Project  \\n- “To be continued…” — Orange Open Movie Project\\n\\nIf you want these timestamps tightened to exact seconds, I can produce a shot-by-shot breakdown with frame-accurate times.\",\"thinkings\":[{\"title\":\"Based on selected videos, fetch detailed information\",\"content\":\"The user has simply provided the word \\\"highlights\\\". This is a very broad term and could refer to many things. The additional information states that I have \\\"selected videos\\\" and need to \\\"fetch detailed information\\\" about them to \\\"understand the content\\\" and \\\"generate a better response\\\". This implies that the user is likely looking for highlights *from* these selected videos.\\n\\nTherefore, the primary goal is to identify what kind of highlights the user might be interested in, given the context of having selected videos. This could mean:\\n\\n1.  **Key moments or summaries:** What are the most important or interesting parts of these videos?\\n2.  **Specific topics or themes:** Are there recurring subjects or ideas discussed across the videos?\\n3.  **Actionable insights or takeaways:** What are the main points or lessons learned from watching these videos?\\n4.  **Highlights of a particular aspect:** For example, if the videos are about a specific event, the highlights might be the most significant occurrences within that event.\\n\\nTo provide a helpful response, I need to first understand the content of the selected videos. This means I need to process the information available for each video to extract its core message, key events, or main points. Once I have a grasp of the content, I can then synthesize this information to identify and present the \\\"highlights\\\" in a way that is most relevant and useful to the user.\\n\\nThe next step, therefore, is to analyze the content of the selected videos. This involves looking for:\\n\\n*   **Main topics and themes:** What are the videos generally about?\\n*   **Key events or developments:** If the videos are narrative or documentary, what are the crucial plot points or historical moments?\\n*   **Important statements or arguments:** What are the most significant things said by the speakers or presented as facts?\\n*   **Visual or auditory cues that indicate importance:** Are there specific segments that are emphasized through editing, music, or visual focus?\\n\\nOnce this information is gathered and understood, the process will be to then select and present the most salient points as \\\"highlights\\\". The exact nature of these highlights will depend on the specific content of the videos. For instance, if the videos are tutorials, the highlights might be the key steps or techniques. If they are news reports, the highlights would be the most significant news items covered.\\n\\nSo, the immediate next step is to delve into the details of the selected videos to understand their content thoroughly. This will allow for the identification of what constitutes \\\"highlights\\\" in this specific context.\"},{\"title\":\"Rerank detailed information\",\"content\":\"The user's request is simply \\\"highlights\\\". This is a very broad and unspecific query. To provide a helpful answer, it's necessary to understand what kind of highlights the user is interested in. Since the previous context mentions looking into videos, it's highly probable that the user is asking for highlights *from those videos*. However, without knowing the content or purpose of those videos, it's impossible to know what would constitute a \\\"highlight.\\\"\\n\\nTherefore, the first and most crucial step is to determine the subject matter of the videos. What are these videos about? Are they news reports, sports games, documentaries, educational lectures, entertainment clips, or something else entirely? The nature of the content will dictate what kind of information would be considered a highlight.\\n\\nOnce the subject matter is understood, the next step is to identify what constitutes a \\\"highlight\\\" within that context. For example:\\n*   **News reports:** Key events, major announcements, significant statements from key figures.\\n*   **Sports games:** Goals, touchdowns, crucial plays, exciting moments, final scores.\\n*   **Documentaries:** Pivotal discoveries, emotional turning points, impactful interviews, key arguments.\\n*   **Educational lectures:** Core concepts, important definitions, practical examples, summary points.\\n*   **Entertainment clips:** Funny moments, dramatic scenes, memorable quotes, plot twists.\\n\\nWithout any specific information about the videos, it's impossible to proceed. The thinking process needs to pivot to gathering this essential context. If the videos were, for instance, about a specific historical event, the highlights would be the most significant moments of that event. If they were about a scientific discovery, the highlights would be the breakthrough findings and their implications.\\n\\nSince the current state is \\\"Rerank detailed information\\\" and the user's query is \\\"highlights,\\\" it implies that there's a set of detailed information (likely from the videos) that needs to be processed to extract these highlights. The thinking process must therefore focus on how to identify and present these highlights effectively, but this is entirely dependent on the content of the videos.\\n\\nThe immediate next step is to acknowledge the ambiguity and seek clarification or make an educated guess based on any implicit context that might be available. However, given the instructions to \\\"think about how to answer the question\\\" and not to answer directly, the focus remains on the *process* of answering.\\n\\nThe core of the thinking process here is:\\n1.  **Recognize the ambiguity:** The term \\\"highlights\\\" is too general.\\n2.  **Infer context:** Assume \\\"highlights\\\" refers to the previously viewed videos.\\n3.  **Identify missing information:** The content and purpose of the videos are unknown.\\n4.  **Determine the criteria for highlights:** This depends entirely on the video content.\\n5.  **Formulate a strategy:** The strategy must involve understanding the video content first, then applying relevant criteria to extract highlights.\\n\\nTherefore, the thinking process is currently stuck at a very high level, waiting for more specific input or a clearer understanding of the source material. The next logical step would be to try and understand what the \\\"detailed information\\\" that was reranked actually contains. If that information pertains to specific videos, then the focus shifts to analyzing the content of those videos to identify what would be considered highlights.\\n\\nFor example, if the videos were about a political debate, the highlights would likely be the most impactful arguments, rebuttals, or controversial statements made by the candidates. If they were about a cooking demonstration, the highlights might be the key techniques, the final dish presentation, or any particularly challenging steps.\\n\\nThe thinking process is essentially a loop: understand the request -> understand the available information -> identify what's needed -> plan how to get it -> execute. Right now, the loop is at step 2, trying to understand the available information (which is implied to be detailed information from videos) in relation to the request (\\\"highlights\\\").\\n\\nThe thinking process needs to be about *how* to extract highlights, assuming the videos are now understood. This would involve identifying the most important, interesting, or significant moments within the video content. This might involve looking for:\\n*   Key turning points in a narrative.\\n*   Crucial information being presented.\\n*   Moments of high emotion or impact.\\n*   Summaries or conclusions.\\n*   Specific actions or events that define the subject matter.\\n\\nWithout knowing the subject matter, it's impossible to be more specific. The current thinking is that the next step is to analyze the content of the videos to identify these key elements. The \\\"reranking detailed information\\\" step suggests that some analysis has already occurred, and this detailed information is the basis for identifying highlights. The thinking process must now focus on how to distill this detailed information into concise highlights. This would involve identifying the most salient points from the detailed information.The user has asked for \\\"highlights.\\\" Given the previous context of looking into videos, the most logical interpretation is that the user wants highlights from those videos. However, the term \\\"highlights\\\" is very broad and depends heavily on the content of the videos. To provide a useful answer, it's necessary to understand what kind of information would be considered a highlight in the context of the videos. This requires understanding the subject matter of the videos. For example, if the videos are about a sports event, highlights would be key plays like goals or touchdowns. If they are about a lecture, highlights would be the main concepts or important takeaways. If they are about a news event, highlights would be the most significant developments or statements. Therefore, the immediate next step is to determine the subject matter of the videos that were reviewed. Once the subject matter is understood, the process will involve identifying the most important, impactful, or noteworthy moments or pieces of information within that content. This might involve looking for key events, significant statements, crucial information, or moments of high interest or emotion, depending on the nature of the videos. The \\\"rerank detailed information\\\" step suggests that there is already some processed information available, and the current thinking is focused on how to extract the most salient points from that detailed information to present as highlights.\"}],\"session_id\":\"611587302624489472\"},\"success\":true,\"failed\":false}\n"
     ]
    }
   ],
   "source": [
    "import json\n",
    "headers = {\n",
    "    \"Authorization\": API_KEY,\n",
    "    \"Content-Type\": \"application/json\",\n",
    "}\n",
    "\n",
    "payload = {\n",
    "    \"video_nos\": [\"VI611471886560694272\"],  # List of video IDs to chat about\n",
    "    \"prompt\": \"Find the highlights of this video and give timestamps\"  # User query\n",
    "}\n",
    "\n",
    "response = requests.post(\n",
    "    \"https://api.memories.ai/serve/api/v1/chat\",\n",
    "    headers=headers,\n",
    "    data=json.dumps(payload),\n",
    "    stream=False\n",
    ")\n",
    "\n",
    "if response.status_code != 200:\n",
    "    print(response.status_code)\n",
    "    print(response.text)\n",
    "else:\n",
    "    try:\n",
    "        for line in response.iter_lines(decode_unicode=True):\n",
    "            if line:\n",
    "                print(line)\n",
    "                if line.strip().lower() == 'data:\"done\"':\n",
    "                    print(\"\\n\")\n",
    "                    break\n",
    "                if line.startswith(\"data:\"):\n",
    "                    print(line.replace(\"data:\", \"\").strip(), end=\"\", flush=True)\n",
    "    except Exception as e:\n",
    "        print(str(e))"
   ]
  },
  {
   "cell_type": "markdown",
   "id": "54fd9e39",
   "metadata": {},
   "source": [
    "## Video Marketer\n",
    "\n",
    "You can explore our **Large Visual Memory Model** and **Agentic QA System** without uploading any videos.\n",
    "\n",
    "With this API, you can chat directly with insights drawn from the entire 1-million-video dataset.\n"
   ]
  },
  {
   "cell_type": "code",
   "execution_count": null,
   "id": "1619778d",
   "metadata": {},
   "outputs": [
    {
     "name": "stdout",
     "output_type": "stream",
     "text": [
      "200\n",
      "{'code': '0000', 'msg': 'success', 'data': {'role': 'ASSISTANT', 'content': 'Do you mean a specific war? Here are the likely meanings and where each is located:\\n\\n- If you mean the discussion clip titled \"The Price of War\" — @thedailyshow — it’s not about a single battlefield; it’s a conversation about U.S. service members and the nationwide costs and sacrifices of military service, not a specific geographic war. Quote: \"@thedailyshow — \\'every individual who enlists... makes the same sacrifice.\\'\"\\n\\n- If you mean \"World War I\" mentioned by @bbc — that war took place mainly in Europe (notably the Western Front in France and Belgium and the Eastern Front in what was then the Russian Empire), with additional campaigns in the Middle East, Africa, Asia and at sea. Quote: \"@bbc — \\'The Great War\\' — a conflict of unprecedented scale.\"\\n\\n- If you mean contemporary, ongoing conflicts (major ones as of mid‑2024):  \\n  - Russia’s full‑scale war in Ukraine — fighting in Ukraine.  \\n  - Israel–Hamas war — primarily in Gaza and parts of Israel.  \\n  - Ongoing civil/conflict zones in Syria, Yemen and parts of the Horn of Africa (e.g., Sudan, Ethiopia).  \\n\\nTell me which of these you meant if you want a more focused answer.', 'thinkings': [{'title': 'Searching relevant videos', 'content': 'The user has simply provided the word \"war\". This is a very broad term, and without any further context, it\\'s impossible to know what specific aspect of \"war\" they are interested in. My current instruction is to search for relevant videos. Therefore, the immediate goal is to identify what kind of videos would be considered \"relevant\" to the term \"war\".\\n\\nTo do this effectively, I need to consider the different facets of war that videos might cover. This could include:\\n\\n1.  **Historical Wars:** Videos detailing specific historical conflicts, their causes, key events, and outcomes. Examples might include World War I, World War II, the Vietnam War, etc.\\n2.  **Current Conflicts:** Videos reporting on ongoing wars or recent military engagements, including news coverage, analysis, and potentially documentaries.\\n3.  **The Nature of War:** Videos exploring the broader concepts of war, such as its causes, consequences, ethics, military strategy, or the human cost. This could include documentaries, lectures, or expert discussions.\\n4.  **Military Technology and Warfare:** Videos showcasing military equipment, tactics, or the evolution of warfare.\\n5.  **Personal Accounts:** Videos featuring personal stories from soldiers, civilians affected by war, or historians.\\n\\nGiven the ambiguity, a good strategy would be to search for a variety of these types of videos to provide a comprehensive overview. The search query itself should be broad enough to capture these different categories. I should aim to find videos that are informative, well-produced, and likely to be of interest to someone searching for \"war\" without further specification. This might involve looking for popular documentaries, news reports from reputable sources, or educational content. The goal is to offer a diverse selection that addresses the multifaceted nature of the topic.The user has provided a single word: \"war\". This is an extremely broad term, and without any additional context, it\\'s impossible to know what specific aspect of \"war\" the user is interested in. My current task is to search for relevant videos. Therefore, the thinking process needs to focus on identifying what constitutes a \"relevant video\" in this context.\\n\\nTo address this, I need to consider the various interpretations and facets of the word \"war\" that could be represented in video content. These might include:\\n\\n*   **Historical Conflicts:** Videos detailing specific wars from history, such as World War I, World War II, the American Civil War, etc. These would likely cover causes, major battles, key figures, and outcomes.\\n*   **Current Events/Ongoing Conflicts:** Videos reporting on contemporary wars or military actions happening in the world today. This would involve news coverage, analysis from experts, and potentially documentaries about current situations.\\n*   **The Concept of War:** Videos that explore war as a phenomenon – its causes, consequences, ethics, psychology, or impact on society. This could include documentaries, lectures, or discussions.\\n*   **Military Aspects:** Videos focusing on military strategy, technology, or the experiences of soldiers.\\n*   **Documentaries and Films:** Feature-length or shorter documentaries that delve into various aspects of war, either historical or contemporary.\\n\\nGiven the lack of specificity, the best approach is to cast a wide net and find videos that represent a range of these categories. The search should aim to identify videos that are informative, engaging, and likely to be considered authoritative or popular within their respective domains. This means looking for content that provides historical context, current reporting, or insightful analysis related to the broad topic of war. The goal is to offer a diverse selection that can help the user explore the topic further, whatever their underlying interest might be.'}, {'title': 'Inspecting search result relevance', 'content': 'The user has simply provided the word \"war\". This is a very broad term, and without any further context, it\\'s impossible to know what specific aspect of \"war\" they are interested in. The additional information states that I have searched for videos and need to filter out irrelevant ones. This implies that the initial search for \"war\" yielded a wide range of results.\\n\\nTo effectively filter these videos, I need to consider what types of videos might be returned for such a broad query. These could include:\\n\\n*   **Historical documentaries:** Videos detailing specific wars, battles, or periods of conflict.\\n*   **News reports:** Current events related to ongoing conflicts or recent wars.\\n*   **Explanations of war:** Videos that define war, discuss its causes, consequences, or different types.\\n*   **Fictional portrayals:** Movies, TV show clips, or animated shorts that depict war.\\n*   **Military strategy and tactics:** Videos focusing on the operational aspects of warfare.\\n*   **Personal accounts:** Testimonials or stories from individuals who have experienced war.\\n*   **Anti-war activism:** Videos promoting peace or protesting conflict.\\n\\nGiven the lack of specificity in the user\\'s query, the most logical approach is to try and identify common themes or categories within the search results. The goal is to retain videos that are most likely to be informative or relevant to a general understanding of \"war\" while discarding those that are clearly tangential or purely entertainment-focused without educational value.\\n\\nTherefore, the thinking process will involve:\\n\\n1.  **Identifying the core concept:** The central theme is \"war.\"\\n2.  **Anticipating diverse interpretations:** Recognizing that \"war\" can be interpreted in many ways (historical, current, conceptual, fictional).\\n3.  **Establishing relevance criteria:** Deciding what constitutes a \"relevant\" video in the absence of specific instructions. This likely means prioritizing factual, informative, or educational content over purely fictional or entertainment-based content, unless the fictional content offers significant insight into the human experience of war.\\n4.  **Categorizing potential results:** Mentally grouping the types of videos that might appear.\\n5.  **Developing a filtering strategy:** Based on the anticipated categories, determining how to distinguish between relevant and irrelevant videos. For example, a documentary about World War II would likely be relevant, while a clip from a video game depicting combat might be less so, unless it\\'s being used to illustrate a specific point about modern warfare. Similarly, a news report on a current conflict would be relevant, but a fictional movie trailer might not be.\\n\\nThe next step would be to apply these criteria to the actual search results, evaluating each video to see if it aligns with a reasonable interpretation of what someone searching for \"war\" might be looking for. This involves looking for keywords, themes, and the overall presentation of the video\\'s content.Found 6 relevant videos.'}, {'title': 'Based on relevant videos, fetch detailed information', 'content': 'The user has simply provided the word \"war\". This is an extremely broad query. To provide a helpful response, it\\'s necessary to understand what aspect of \"war\" the user is interested in. Since I have been provided with relevant videos, the next step is to analyze the content of these videos to identify common themes, specific conflicts, or different perspectives on war that are presented.\\n\\nThe goal is to synthesize the information from these videos to offer a comprehensive overview or address a likely underlying intent behind such a simple query. This could involve:\\n\\n1.  **Identifying the types of wars discussed:** Are they historical wars, modern conflicts, theoretical discussions about war, or something else?\\n2.  **Extracting key information about specific wars:** If specific conflicts are highlighted, what are the main causes, key events, outcomes, and impacts mentioned?\\n3.  **Understanding the different perspectives presented:** Do the videos offer military, political, social, or humanitarian viewpoints on war? Are there discussions about the causes, conduct, or consequences of war?\\n4.  **Looking for common threads or overarching themes:** What are the recurring ideas or messages about war across the different videos? For example, is there a focus on the human cost, the strategies involved, or the political motivations?\\n\\nBy thoroughly examining the content of the provided videos, the aim is to build a structured understanding of the information available, which will then inform how to best answer the user\\'s very open-ended question about \"war.\" This analysis will help in categorizing the information and presenting it in a way that is informative and relevant to what the videos cover.'}, {'title': 'Rerank detailed information', 'content': 'The user\\'s query is a single word: \"war.\" This is an extremely broad and open-ended question. To provide a helpful and comprehensive answer, it\\'s necessary to break down what \"war\" could encompass and how to approach such a multifaceted topic.\\n\\nFirst, consider the different facets of war:\\n1.  **Definition:** What is war? What are its core characteristics?\\n2.  **Causes:** Why does war happen? What are the underlying factors that lead to conflict?\\n3.  **Types:** Are there different kinds of war (e.g., conventional, unconventional, civil, total, limited)?\\n4.  **Consequences:** What are the impacts of war on individuals, societies, economies, and the environment?\\n5.  **History:** How has warfare evolved throughout history? What are some significant historical wars?\\n6.  **Philosophy/Ethics:** What are the moral and ethical considerations surrounding war? Just War theory, pacifism, etc.\\n7.  **Modern Warfare:** How has warfare changed in the contemporary era (e.g., technology, cyber warfare, hybrid warfare)?\\n8.  **Resolution/Prevention:** How can wars be prevented or ended? Diplomacy, peacebuilding, etc.\\n\\nGiven the lack of specificity in the user\\'s query, the best approach is to provide a general overview that touches upon these key aspects. The goal is to offer a foundational understanding of the concept of war.\\n\\nThe thinking process will involve:\\n*   **Defining War:** Start with a clear and concise definition of what constitutes war.\\n*   **Exploring Causes:** Briefly outline common reasons for war, such as political, economic, ideological, or territorial disputes.\\n*   **Highlighting Consequences:** Discuss the significant negative impacts of war, including loss of life, destruction, displacement, and economic hardship.\\n*   **Mentioning Historical Context:** Acknowledge that war is a recurring phenomenon throughout human history and has taken many forms.\\n*   **Touching on Modern Aspects:** Briefly mention how warfare continues to evolve with technological advancements.\\n*   **Concluding with Complexity:** Emphasize that war is a complex issue with no simple answers, often involving a confluence of factors.\\n\\nThe aim is to provide a balanced and informative response that acknowledges the gravity and multifaceted nature of the topic without getting bogged down in excessive detail on any single aspect, unless the user provides further clarification. The response should be structured to be easily digestible and informative for someone asking such a general question.The user has asked a very broad question: \"war.\" To provide a helpful answer, it\\'s important to consider the various dimensions of this topic. War is a complex phenomenon with many facets, and a good response should touch upon these without being overly exhaustive, given the lack of specific context.\\n\\nHere\\'s a breakdown of how to approach answering this:\\n\\n1.  **Define War:** Start with a clear, concise definition of what war is. This would involve elements like organized, armed conflict between states, groups, or factions.\\n2.  **Identify Key Aspects:** Think about the core components or themes associated with war. These could include:\\n    *   **Causes:** What are the common reasons why wars start? This could involve political, economic, ideological, territorial, or social factors.\\n    *   **Nature/Characteristics:** What are the defining features of war? This might include violence, destruction, loss of life, and the involvement of organized armed forces.\\n    *   **Consequences:** What are the impacts of war? This is a crucial aspect, covering human suffering, economic devastation, political instability, displacement, and environmental damage.\\n    *   **Types of War:** Briefly acknowledge that there are different forms of warfare (e.g., conventional, civil, guerrilla, total, limited).\\n    *   **Historical Context:** Recognize that war has been a part of human history for millennia and has evolved over time.\\n    *   **Modern Warfare:** Consider how warfare has changed with technological advancements and new strategies.\\n3.  **Structure the Answer:** Organize the information logically. A possible structure could be:\\n    *   Start with a definition.\\n    *   Discuss the common causes.\\n    *   Elaborate on the significant consequences.\\n    *   Briefly mention its historical presence and evolution.\\n    *   Conclude by emphasizing its complexity and impact.\\n4.  **Consider the User\\'s Intent:** Since the query is so open-ended, the user might be looking for a general understanding, a definition, or perhaps an overview of its significance. The answer should aim to provide a foundational understanding that can be built upon if the user asks follow-up questions.\\n\\nTherefore, the thinking process involves dissecting the single word \"war\" into its constituent concepts and then synthesizing these into a coherent, informative overview. The goal is to provide a comprehensive yet accessible explanation of what war entails.', 'refs': [{'video': {'duration': '0', 'video_no': 'PI-602413436596523027', 'video_name': 'Republicans are caught up in the semantics of \"war plan\" because it didn\\'t include latitudes and longitudes #DailyShow #Hegseth #WarPlan '}, 'refItems': [{'videoNo': 'PI-602413436596523027', 'startTime': 0, 'type': 'video_meta', 'title': None, 'summary': None, 'view_count': 331400, 'like_count': 28200, 'share_count': 1167, 'comment_count': 713}]}, {'video': {'duration': '0', 'video_no': 'PI-590041739935485952', 'video_name': 'History 101\\nCUNK ON BRITAIN: Philomena Cunks landmark mockumentary series taking us through Britains history, journeying from the Big Bang to Brexit.\\n#CunkOnBritain #PhilomenaCunk #Comedy #Funny #Throwback'}, 'refItems': [{'videoNo': 'PI-590041739935485952', 'startTime': 0, 'type': 'video_meta', 'title': None, 'summary': None, 'view_count': 456400, 'like_count': 21700, 'share_count': 1469, 'comment_count': 215}]}, {'video': {'duration': '0', 'video_no': 'PI-600899433936326662', 'video_name': 'The fastest man alive, trying to outrun his past 🥲\\x03\\x03\\n\\n📺: #TheBoys starring #LazAlonso and #JessieTUsher available on #PrimeVideo.'}, 'refItems': [{'videoNo': 'PI-600899433936326662', 'startTime': 0, 'type': 'video_meta', 'title': None, 'summary': None, 'view_count': 38400, 'like_count': 1127, 'share_count': 12, 'comment_count': 15}]}, {'video': {'duration': '0', 'video_no': 'PI-591145081520656384', 'video_name': 'It’s only getting worse #christian #christiantiktok #jesusisking '}, 'refItems': [{'videoNo': 'PI-591145081520656384', 'startTime': 0, 'type': 'video_meta', 'title': None, 'summary': None, 'view_count': 16700, 'like_count': 3770, 'share_count': 432, 'comment_count': 132}]}, {'video': {'duration': '0', 'video_no': 'PI-591145124134785024', 'video_name': 'Back to the drawing board. #Duster #RachelHilson #NinaHayes #JoshHolloway #JimEllis'}, 'refItems': [{'videoNo': 'PI-591145124134785024', 'startTime': 0, 'type': 'video_meta', 'title': None, 'summary': None, 'view_count': 8164, 'like_count': 228, 'share_count': 1, 'comment_count': 3}]}, {'video': {'duration': '0', 'video_no': 'PI-602773421759270977', 'video_name': 'Founder of The War Horse, Thomas J. Brennan, explains why military journalism is necessary'}, 'refItems': [{'videoNo': 'PI-602773421759270977', 'startTime': 0, 'type': 'video_meta', 'title': None, 'summary': None, 'view_count': 258000, 'like_count': 13200, 'share_count': 143, 'comment_count': 310}]}, {'video': {'duration': '0', 'video_no': 'PI-602773421759270977', 'video_name': 'Founder of The War Horse, Thomas J. Brennan, explains why military journalism is necessary'}, 'refItems': [{'videoNo': 'PI-602773421759270977', 'startTime': 10, 'type': 'keyframe'}]}]}], 'session_id': '611482004551131138'}, 'success': True, 'failed': False}\n"
     ]
    }
   ],
   "source": [
    "headers = {\n",
    "    \"Authorization\": API_KEY,\n",
    "    \"Content-Type\": \"application/json\",\n",
    "}\n",
    "\n",
    "payload = {\n",
    "    \"prompt\": \"where is the war?\",  # User query\n",
    "}\n",
    "\n",
    "response = requests.post(\n",
    "    \"https://api.memories.ai/serve/api/v1/marketer_chat\",\n",
    "    headers=headers,\n",
    "    data=json.dumps(payload),\n",
    "    stream=False\n",
    ")\n",
    "\n",
    "print(response.status_code)\n",
    "print(response.json())"
   ]
  },
  {
   "cell_type": "markdown",
   "id": "b141bfca",
   "metadata": {},
   "source": [
    "# Video transcription\n",
    "You can use the API to transcribe the video's visual content into text."
   ]
  },
  {
   "cell_type": "code",
   "execution_count": 13,
   "id": "5aeb3d91",
   "metadata": {},
   "outputs": [
    {
     "name": "stdout",
     "output_type": "stream",
     "text": [
      "Status: 200\n",
      "Video Transcription Response: {'code': '0000', 'msg': 'success', 'data': {'videoNo': 'VI611471886560694272', 'transcriptions': [{'index': 0, 'content': 'The screen displays a textured wall with the words \"the orange open movie project presents\" in a stylized font. The background is dark and appears to be made of cracked tiles, with some metallic or mechanical elements visible on the sides.', 'startTime': '0', 'endTime': '26'}, {'index': 1, 'content': 'A close-up shot focuses on the face of an elderly, bald man with a weathered appearance. He is looking downwards with a concerned expression, and his features are blurred due to motion.', 'startTime': '26', 'endTime': '28'}, {'index': 2, 'content': \"The scene shifts to a close-up of a man's face, revealing blue eyes and a prominent nose. He appears to be looking directly at the viewer with a surprised or alarmed expression. The background is dark and out of focus.\", 'startTime': '28', 'endTime': '29'}, {'index': 3, 'content': 'The view is of a wall covered in metallic panels and wires, with numerous small, circular buttons or lights. Horizontal lines create a sense of depth and movement.', 'startTime': '29', 'endTime': '30'}, {'index': 4, 'content': 'Two figures are on a platform in a futuristic, metallic environment. On the left, a person is crawling on their hands and knees. On the right, another person stands, looking towards the first. The background is filled with intricate wiring and glowing lights.', 'startTime': '31', 'endTime': '37'}, {'index': 5, 'content': \"The scene shifts to a close-up of a man's face. He appears gaunt and is looking downwards with his eyes closed. The background is a blurry, light-colored wall with circular patterns.\", 'startTime': '50', 'endTime': '56'}, {'index': 6, 'content': 'An elderly man with a bald head and a prominent nose is shown in profile. He is wearing a dark jacket over a reddish shirt. He is looking to the side and appears to be speaking or reacting to something. The background is a complex network of wires and glowing elements.', 'startTime': '56', 'endTime': '60'}, {'index': 7, 'content': 'An elderly man with a prominent nose and a white beard, wearing a dark jacket over a red shirt, stands in a dimly lit, complex environment filled with wires and glowing lights. He appears to be speaking or reacting to something.', 'startTime': '61', 'endTime': '64'}, {'index': 8, 'content': 'Two figures, one older and one younger, walk across a narrow, icy platform suspended amidst a vast, dark space filled with intricate wiring and vertical light sources. The older man is in front, wearing a dark jacket and red shirt, while the younger man follows closely behind.', 'startTime': '64', 'endTime': '71'}, {'index': 9, 'content': 'The two men emerge from a bright, glowing opening, framed by dark, vertical structures resembling curtains or cables. The older man is in the foreground, looking forward with a concerned expression, while the younger man is behind him, also looking out.', 'startTime': '71', 'endTime': '82'}, {'index': 10, 'content': 'The scene shifts to a high-angle view of a dark, complex network of wires and platforms. A single figure stands on a narrow, illuminated walkway, which appears to be a bridge or pathway through the dense wiring.', 'startTime': '82', 'endTime': '85'}, {'index': 11, 'content': 'Two figures are now visible on the narrow walkway, interacting with each other. The environment is predominantly dark, with bright lights illuminating the walkway and the figures, highlighting the intricate web of wires surrounding them.', 'startTime': '85', 'endTime': '88'}, {'index': 12, 'content': 'The perspective changes to a wide shot, showing a winding pathway made of metal plates, suspended in a dark, cavernous space. The pathway is densely surrounded by thick cables and illuminated by vertical light strips. Several small figures, possibly birds, are perched on a thick cable in the upper left.', 'startTime': '88', 'endTime': '90'}, {'index': 13, 'content': 'A surreal, black and white scene unfolds with a complex network of wires and metallic structures. A narrow, elevated pathway winds through the scene, illuminated by intermittent lights. On the left, a grid of what appear to be electrical insulators is visible, with a spherical object perched on top. Small, bird-like metallic figures are perched on some of the wires.', 'startTime': '91', 'endTime': '92'}, {'index': 14, 'content': 'A young person with short hair and a light-colored outfit stands on the pathway, looking ahead. Behind them, an older person with a bald head and a dark coat over a reddish shirt is visible. The pathway continues to snake through the dense wire structure.', 'startTime': '92', 'endTime': '93'}, {'index': 15, 'content': 'The young person begins to walk along the pathway, while the older person follows closely behind. The environment remains a dense, dark, and intricate web of wires and metallic elements, with the pathway illuminated.', 'startTime': '93', 'endTime': '94'}, {'index': 16, 'content': 'The older person catches up to the young person on the pathway. They appear to be interacting, with the older person reaching out towards the younger one. The background is a chaotic yet organized tangle of wires and metallic structures.', 'startTime': '94', 'endTime': '95'}, {'index': 17, 'content': 'The young person continues to move forward on the pathway, looking back slightly. The older person is now behind them, also moving along the path. The metallic bird-like figures are still visible on the wires.', 'startTime': '95', 'endTime': '96'}, {'index': 18, 'content': 'The two figures continue their journey along the winding pathway. The older person is in the lead, and the younger person follows. The intricate wire network and the metallic structures dominate the background.', 'startTime': '96', 'endTime': '97'}, {'index': 19, 'content': 'The older person is now further ahead on the pathway, moving with a sense of urgency. The younger person is behind, still following. The scene is characterized by the dense, dark, and complex arrangement of wires.', 'startTime': '97', 'endTime': '98'}, {'index': 20, 'content': 'The older person is running along the pathway, looking ahead with an intense expression. The younger person is behind, also moving quickly. The metallic bird-like figures are scattered throughout the wire network.', 'startTime': '98', 'endTime': '99'}, {'index': 21, 'content': 'The perspective shifts, showing the older person in the foreground, running with their arms outstretched. In the background, the younger person is also running. A bright vertical light source is visible in the distance, cutting through the darkness.', 'startTime': '99', 'endTime': '100'}, {'index': 22, 'content': 'The older person continues to run, their face contorted in an expression of exertion or distress. The younger person is further back on the pathway, also running. The background is a dense, dark expanse of wires.', 'startTime': '100', 'endTime': '101'}, {'index': 23, 'content': 'The older person is captured in a dynamic pose, mid-stride, with their head tilted back. The younger person is visible in the distance, running. The environment is a disorienting network of wires and metallic elements.', 'startTime': '101', 'endTime': '102'}, {'index': 24, 'content': 'The scene focuses on the metallic bird-like figures, which are now more prominent and appear to be in motion. They are perched on various wires and structures, some with their wings spread. The pathway and the figures on it are less visible in this shot.', 'startTime': '102', 'endTime': '103'}, {'index': 25, 'content': 'More of the metallic bird-like figures are shown, some appearing to be in flight or perched on the intricate wire network. The overall impression is one of a vast, dark, and complex mechanical or natural environment.', 'startTime': '103', 'endTime': '104'}, {'index': 26, 'content': 'The metallic figures continue to be the focus, with some appearing to be in mid-air or perched on the wires. The pathway is visible in the background, with hints of the figures on it.', 'startTime': '104', 'endTime': '105'}, {'index': 27, 'content': 'The metallic figures are scattered across the wire network, some appearing to be stationary and others in motion. The scene is predominantly dark, with the wires creating a dense, almost claustrophobic atmosphere.', 'startTime': '105', 'endTime': '106'}, {'index': 28, 'content': 'The older person is now standing on the pathway, looking towards the right. The younger person is also on the pathway, further behind. The metallic bird-like figures are visible on the wires in the background, and a large, complex structure with lights is on the far right.', 'startTime': '106', 'endTime': '107'}, {'index': 29, 'content': 'The older person is walking along the pathway, looking ahead. The younger person is behind them, also walking. The metallic figures are still present on the wires.', 'startTime': '107', 'endTime': '108'}, {'index': 30, 'content': 'The older person is running with their arms outstretched, appearing to be in pursuit or flight. The younger person is behind them on the pathway. The intricate wire network fills the frame.', 'startTime': '108', 'endTime': '109'}, {'index': 31, 'content': 'The pathway continues, with the older person in the foreground, running. The younger person is further back. The scene is dominated by the dense network of wires and the stark lighting.', 'startTime': '109', 'endTime': '110'}, {'index': 32, 'content': 'The younger person is now in the foreground, standing on the pathway and looking ahead. The older person is further back, also on the pathway. The metallic bird-like figures are visible on the wires.', 'startTime': '110', 'endTime': '111'}, {'index': 33, 'content': 'The scene shifts to show the younger person running on the pathway, while the older person is seen in a distorted, upside-down position, seemingly falling or suspended amidst the wires. The metallic figures are also visible.', 'startTime': '111', 'endTime': '112'}, {'index': 34, 'content': 'The younger person continues to run along the pathway. The older person is now visible in a more upright position, but still appears to be in motion or falling. The metallic figures are scattered throughout the wire network.', 'startTime': '112', 'endTime': '113'}, {'index': 35, 'content': 'The younger person is running on the pathway, looking ahead. The older person is below the pathway, in a contorted position. The metallic figures are visible on the wires.', 'startTime': '113', 'endTime': '114'}, {'index': 36, 'content': 'The younger person stands on the pathway, facing a large, metallic, bird-like creature with outstretched wings. The creature appears to be interacting with the person. The background is a dense network of wires.', 'startTime': '114', 'endTime': '115'}, {'index': 37, 'content': \"The younger person is in motion, seemingly reacting to the large metallic bird-like creature that is flying towards them. The creature's wings are spread wide. The pathway and the wire network are visible.\", 'startTime': '115', 'endTime': '116'}, {'index': 38, 'content': 'The younger person is now facing away from the camera, running on the pathway. The metallic bird-like creature is to their left, in motion. The background is a complex web of wires.', 'startTime': '116', 'endTime': '117'}, {'index': 39, 'content': 'The scene shows multiple figures in motion, appearing to be falling or suspended in the air amidst the wires. The older person and the younger person are both visible, along with the metallic bird-like creatures. The lighting is stark and dramatic.', 'startTime': '117', 'endTime': '118'}, {'index': 40, 'content': 'The older person is running on the pathway, looking towards the camera with an intense expression. The younger person is behind them. The metallic bird-like creatures are also visible in the background.', 'startTime': '118', 'endTime': '119'}, {'index': 41, 'content': 'The older person is in the foreground, running and gesturing. The younger person is behind them on the pathway. The metallic bird-like creatures are scattered throughout the wire network.', 'startTime': '119', 'endTime': '120'}, {'index': 42, 'content': 'Two figures are running along a narrow, elevated path made of segmented metal plates. The path is suspended amidst a dense network of thin, dark wires. The figure in the foreground, a bald man wearing a green jacket over a red shirt and grey pants, is in motion, his arms outstretched. Behind him, a slimmer figure in a light-colored outfit runs with arms extended, appearing to be in pursuit or following closely. The background is a chaotic web of wires, with occasional metallic structures and lights visible.', 'startTime': '121', 'endTime': '126'}, {'index': 43, 'content': 'The two figures continue their movement along the segmented path. The man in the green jacket is now further ahead, with the other figure trailing. The environment remains a dense network of wires, with various metallic structures, some resembling grids or clusters of lights, scattered throughout.', 'startTime': '126', 'endTime': '131'}, {'index': 44, 'content': 'The man in the green jacket reaches out to the second figure, who is now closer. They are on a wider section of the path. The background is filled with the intricate web of wires and scattered metallic elements. Birds or similar flying objects are visible in the air.', 'startTime': '131', 'endTime': '136'}, {'index': 45, 'content': 'The two figures are now on a different section of the path, which appears to be a large, flat platform. The man in the green jacket is in the foreground, looking towards the other figure, who is behind him. The background is a dense network of wires, with some metallic structures visible.', 'startTime': '136', 'endTime': '141'}, {'index': 46, 'content': 'The man in the green jacket places his hand on the shoulder of the other figure, who is looking up and to the side. They are on a platform surrounded by a dense network of wires. Several small, bird-like objects are flying in the background.', 'startTime': '141', 'endTime': '146'}, {'index': 47, 'content': 'The scene shifts to focus on the intricate network of wires and scattered metallic objects. Some of these objects appear to be mechanical or structural, with a metallic sheen. The overall impression is of a complex, abstract environment.', 'startTime': '146', 'endTime': '150'}, {'index': 48, 'content': 'A dimly lit room features a red carpeted area with a small table in the center. On the table sits an old-fashioned telephone. The room is decorated with numerous wires and metallic structures, creating a somewhat industrial and eerie atmosphere. A large, circular window with multiple openings is visible in the background.', 'startTime': '153', 'endTime': '161'}, {'index': 49, 'content': 'An elderly man with a bald head and prominent facial features, wearing a brown jacket over a red sweater, looks down with a serious expression. He is in the same dimly lit room with the red carpet and wires.', 'startTime': '162', 'endTime': '164'}, {'index': 50, 'content': 'A gaunt young man with short dark hair and a pale complexion, wearing a light-colored tunic, stands with his hands clenched. He appears to be in distress or deep thought within the same dimly lit, wire-filled room.', 'startTime': '164', 'endTime': '166'}, {'index': 51, 'content': \"The old-fashioned telephone on the table is shown in close-up. The room's lighting casts a red glow on the scene, highlighting the wires and the metallic elements in the background.\", 'startTime': '166', 'endTime': '168'}, {'index': 52, 'content': 'An overhead view shows the elderly man and the young man standing near the table with the telephone. The elderly man appears to be reaching for or interacting with the telephone.', 'startTime': '168', 'endTime': '169'}, {'index': 53, 'content': \"The elderly man's face is shown in a close-up, his expression one of intense focus or concern as he looks forward.\", 'startTime': '169', 'endTime': '171'}, {'index': 54, 'content': 'The gaunt young man stands with his arms outstretched, his expression conveying a sense of unease or anticipation. He is illuminated by a reddish light in the dimly lit room.', 'startTime': '171', 'endTime': '175'}, {'index': 55, 'content': 'The elderly man leans in, his hands gloved, as he manipulates the old-fashioned telephone. He is looking intently at the device.', 'startTime': '175', 'endTime': '177'}, {'index': 56, 'content': 'The elderly man holds the receiver of the telephone close to the camera, his fingers gripping it firmly. His face is partially obscured, but his intense focus is evident.', 'startTime': '177', 'endTime': '179'}, {'index': 57, 'content': \"A very close-up shot focuses on the intricate, organic-looking mechanism within the telephone's earpiece, glowing with a reddish hue.\", 'startTime': '179', 'endTime': '180'}, {'index': 58, 'content': 'A close-up view shows a complex, organic-looking structure with multiple glowing, eye-like pods embedded within a dark, metallic casing. Thin, green tendrils weave through the pods, and the entire assembly is illuminated by a warm, reddish light.', 'startTime': '181', 'endTime': '183'}, {'index': 59, 'content': 'Two figures are seen in silhouette against a bright red background, suspended by wires. One figure appears to be falling or being pulled, while the other is reaching out. Several spherical objects float around them.', 'startTime': '183', 'endTime': '185'}, {'index': 60, 'content': 'A single figure, now in silhouette, is seen in motion against the red background, appearing to be in a dynamic pose, possibly mid-fall or mid-movement. The spherical objects are still visible.', 'startTime': '185', 'endTime': '187'}, {'index': 61, 'content': \"A close-up of a man's face, illuminated by a red light, shows him looking slightly to the side with a concerned or questioning expression. His skin has a reddish hue, and he appears to be wearing a dark, sleeveless shirt and fingerless gloves.\", 'startTime': '190', 'endTime': '195'}, {'index': 62, 'content': \"The man's face is still the central focus, with his expression remaining similar. Another person's hands, wearing gloves, are seen touching his shoulder and holding a device near his head.\", 'startTime': '191', 'endTime': '195'}, {'index': 63, 'content': 'The scene shifts to a dark, industrial-looking environment with numerous wires and metallic structures. A bright, conical light fixture hangs from the ceiling, casting a glow.', 'startTime': '195', 'endTime': '202'}, {'index': 64, 'content': 'The scene returns to the industrial environment with the hanging light fixture. A person, mostly obscured by shadow, is seen in the lower part of the frame, looking upwards.', 'startTime': '202', 'endTime': '205'}, {'index': 65, 'content': 'The view remains focused on the hanging light and the complex, red-toned background with numerous wires. The person in the foreground is now more visible, appearing to be an older man with a bald head, looking upwards.', 'startTime': '205', 'endTime': '209'}, {'index': 66, 'content': 'The scene continues to show the hanging light and the background. The bald man is still present in the lower frame, his gaze directed upwards.', 'startTime': '209', 'endTime': '210'}, {'index': 67, 'content': 'A close-up shot shows a complex network of wires and a single light bulb illuminating a dimly lit, reddish interior. A pipe with a small lamp attached to it is visible in the center.', 'startTime': '211', 'endTime': '214'}, {'index': 68, 'content': 'A man with a gaunt face and a light brown shirt is shown in a close-up, looking down with a slight smile. He is illuminated by a red light, and wires are visible in the background.', 'startTime': '214', 'endTime': '217'}, {'index': 69, 'content': 'A mechanical device with multiple arms and lights is positioned on a surface. It appears to be holding or interacting with red objects. The scene is dimly lit with red and white lighting.', 'startTime': '217', 'endTime': '222'}, {'index': 70, 'content': 'The lower legs and feet of a person wearing dark leggings and wedge-like shoes are shown as they walk across a red floor. The person is moving from left to right.', 'startTime': '222', 'endTime': '224'}, {'index': 71, 'content': 'A close-up focuses on a rusty pipe with dark bands. Behind it, a green surface is visible, along with more wires and a dimly lit background.', 'startTime': '224', 'endTime': '227'}, {'index': 72, 'content': 'A small lamp attached to a flexible arm is illuminated, casting light on a circular metallic object. The scene remains dimly lit with a focus on the pipe and the lamp.', 'startTime': '227', 'endTime': '234'}, {'index': 73, 'content': 'Two men are shown in medium shot. The man in the foreground is older, bald, and wearing a dark green jacket, with his face illuminated by a red light. The man behind him is younger, with short dark hair, wearing a light brown shirt, and looking towards the foreground man.', 'startTime': '234', 'endTime': '239'}, {'index': 74, 'content': 'Two figures, one older and one younger, stand on a narrow platform suspended in darkness. The older figure is in the foreground, looking to the side, while the younger figure is behind and to the left, also looking away. Wires hang around them.', 'startTime': '239', 'endTime': '240'}, {'index': 75, 'content': 'Two figures stand on a narrow platform, illuminated by spotlights against a dark background. The figure on the left, appearing younger and slender, wears a light-colored tunic and dark shoes. The figure on the right, older and more gaunt, is dressed in a dark green coat over a reddish-brown sweater and dark pants, holding a cane.', 'startTime': '240', 'endTime': '245'}, {'index': 76, 'content': 'The older figure, now holding the cane like a weapon, moves with a more dynamic posture, one leg raised as if in mid-stride or dance. The younger figure remains relatively still, looking towards the right. The platform they stand on appears to be part of a larger, complex mechanical structure with wires and pipes.', 'startTime': '245', 'endTime': '248'}, {'index': 77, 'content': 'The older figure leaps from the platform, mid-air with arms outstretched, while the younger figure watches. Below them, two circular platforms on poles are visible, suggesting a precarious environment. The scene is dramatic, with strong lighting creating shadows and highlighting the figures.', 'startTime': '248', 'endTime': '253'}, {'index': 78, 'content': 'The older figure lands on one of the elevated circular platforms, balancing precariously. The younger figure remains on the initial platform, now appearing to move slightly. The lighting continues to emphasize the stark contrast between the figures and the dark surroundings.', 'startTime': '253', 'endTime': '258'}, {'index': 79, 'content': \"The older figure is now in a crouched position on the circular platform, seemingly recovering balance or preparing for another move. The younger figure is no longer visible on the initial platform, and the focus shifts entirely to the older figure's precarious stance.\", 'startTime': '258', 'endTime': '263'}, {'index': 80, 'content': 'The younger figure reappears, standing on a separate, elevated circular platform. The older figure is now standing upright on their platform, looking upwards with arms slightly raised. The scene is bathed in dramatic light rays.', 'startTime': '263', 'endTime': '269'}, {'index': 81, 'content': 'The scene transitions to a dark frame with visible light rays, suggesting the end of the sequence or a change in focus.', 'startTime': '269', 'endTime': '270'}, {'index': 82, 'content': 'A bald man in a green coat and red shirt stands on a small platform, balancing with his arms outstretched. He is illuminated by a spotlight against a dark background with faint dust particles.', 'startTime': '270', 'endTime': '274'}, {'index': 83, 'content': 'A second man, wearing a light-colored tunic, walks on a similar platform to the left. The first man continues to balance, his body angled as if mid-motion.', 'startTime': '274', 'endTime': '278'}, {'index': 84, 'content': 'A small, mechanical, snail-like object with a light on top floats between the two men. The first man is now facing away from the camera, his arms raised.', 'startTime': '278', 'endTime': '281'}, {'index': 85, 'content': 'The second man, now closer to the camera, looks down and to his right, his expression neutral. The background is dark with faint light rays.', 'startTime': '281', 'endTime': '283'}, {'index': 86, 'content': 'The first man, facing the camera, gestures with his hands, his expression intense. He is on a platform, with spotlights creating dramatic shadows.', 'startTime': '283', 'endTime': '288'}, {'index': 87, 'content': 'The scene shifts to show both men on elevated platforms, with the first man on the right and the second man on the left. They are in a dimly lit, industrial-looking environment with pipes and machinery visible in the background. The first man appears to be speaking or gesturing towards the second man.', 'startTime': '288', 'endTime': '293'}, {'index': 88, 'content': 'The camera focuses on a large, ornate, metallic structure with intricate piping and glowing elements. The scene is filled with a smoky or misty atmosphere.', 'startTime': '293', 'endTime': '295'}, {'index': 89, 'content': 'The first man, now seen from behind and in profile, walks towards the metallic structure. He is wearing a dark green coat and a red shirt.', 'startTime': '295', 'endTime': '297'}, {'index': 90, 'content': 'The first man turns to face the camera, his expression stern. The second man is visible in the background, also turned away. They are positioned in front of the elaborate metallic structure.', 'startTime': '297', 'endTime': '300'}, {'index': 91, 'content': 'Two animated characters are in a dimly lit, industrial-looking space. The character in the foreground is a bald man with a prominent nose and a dark green jacket over a red argyle sweater. To his left and slightly behind him is a younger, thinner character wearing a light green tunic. The background features metallic structures, wires, and what appear to be large gears or machinery.', 'startTime': '300', 'endTime': '305'}, {'index': 92, 'content': 'The bald man turns his head to the right, his expression unreadable. The younger character remains looking forward. The background machinery is visible, with coiled wires and metallic elements.', 'startTime': '305', 'endTime': '307'}, {'index': 93, 'content': 'A close-up shot focuses on a mechanical arm with a red circular object at its center, held by a gloved hand. The background is a blur of metallic textures and wires.', 'startTime': '307', 'endTime': '309'}, {'index': 94, 'content': 'The scene shifts to a view of complex machinery with a suspended cylindrical object that has a glowing green symbol on it. The object is surrounded by numerous wires and metallic structures.', 'startTime': '309', 'endTime': '311'}, {'index': 95, 'content': 'The camera perspective changes, showing a dizzying downward view into a circular shaft lined with lights and intricate metalwork. The cylindrical object is visible, suspended by wires.', 'startTime': '311', 'endTime': '316'}, {'index': 96, 'content': 'The view continues to descend into the shaft, with the cylindrical object becoming more prominent. The surrounding machinery is a complex network of wires and metal.', 'startTime': '316', 'endTime': '318'}, {'index': 97, 'content': 'The cylindrical object is now seen from a different angle, appearing to spin or move rapidly within the dark shaft. The background is mostly black, with streaks of light indicating motion.', 'startTime': '318', 'endTime': '319'}, {'index': 98, 'content': 'The two characters are back in view, with the bald man looking down and the younger character looking forward. The background appears to be a large, circular chamber with metallic walls and some smoky or misty effects.', 'startTime': '319', 'endTime': '320'}, {'index': 99, 'content': 'The scene changes to a platform with several small, robotic creatures. One resembles a sphere with a single eye and a flexible arm, another has a more insect-like appearance with multiple legs and a head with eyes, and a third object is nestled in a wire nest.', 'startTime': '320', 'endTime': '323'}, {'index': 100, 'content': 'The robotic creatures continue to be the focus, with the insect-like robot appearing to interact with the spherical one. The background is dark with several lights in the distance.', 'startTime': '323', 'endTime': '326'}, {'index': 101, 'content': 'The scene shifts to a close-up of the complex machinery within the circular shaft, showing a detailed view of the metallic structure and wires, with lights illuminating the area.', 'startTime': '326', 'endTime': '328'}, {'index': 102, 'content': 'The two characters are visible again, with the younger character looking towards the camera and the bald man looking down. The background is a blurry, metallic environment with some smoky or misty elements.', 'startTime': '328', 'endTime': '330'}, {'index': 103, 'content': 'A complex, metallic structure with numerous wires and lights is shown from a low angle, with a central mechanical arm extending upwards. The scene is dimly lit, creating a somewhat industrial and mysterious atmosphere.', 'startTime': '330', 'endTime': '333'}, {'index': 104, 'content': 'The camera moves into a dark, cylindrical opening, revealing a spinning mechanism with glowing blue elements. The perspective shifts to looking down into the structure.', 'startTime': '333', 'endTime': '336'}, {'index': 105, 'content': 'A cylindrical object, possibly a component or a device, is shown isolated against a black background, rotating slowly. It has a ribbed texture and appears to be made of metal or a similar material.', 'startTime': '336', 'endTime': '341'}, {'index': 106, 'content': 'Two stylized, animated characters are shown. One, a gaunt young man in a simple tunic, looks on as an older, bald man with a prominent nose and a green coat reaches out towards him. They appear to be in a dimly lit, possibly industrial or laboratory setting.', 'startTime': '341', 'endTime': '346'}, {'index': 107, 'content': 'The older man, dressed in a green coat and a red undershirt, is shown in close-up. He has a bald head, a large nose, and sideburns. His expression is intense as he looks upwards, with a blurred background of vertical lines.', 'startTime': '346', 'endTime': '353'}, {'index': 108, 'content': 'A wide shot reveals a desolate, alien landscape covered in metallic structures resembling antennas or towers. A bright, glowing crater is visible in the center of the scene, with a dark, cloudy sky above.', 'startTime': '353', 'endTime': '359'}, {'index': 109, 'content': 'Two translucent, ghostly figures, a man and a woman, stand on a metallic platform against a black background. The woman raises her hand, and they both look upwards.', 'startTime': '359', 'endTime': '360'}, {'index': 110, 'content': 'Two figures, one appearing younger and slender, the other older and more gaunt, stand on a metallic platform. The older figure, wearing a dark coat over a maroon shirt, gestures with their right hand, which glows faintly. The younger figure, in a light-colored tunic, stands beside them, looking forward. The background is entirely black, with the figures and platform illuminated by an ethereal light.', 'startTime': '360', 'endTime': '364'}, {'index': 111, 'content': 'A close-up shot focuses on the face of the younger figure, whose eyes are wide and appear to be glowing. Their expression is one of intense concentration or perhaps fear. The lighting is dim, casting shadows that accentuate the sharp features of their face.', 'startTime': '364', 'endTime': '365'}, {'index': 112, 'content': 'The two figures are shown again, standing on the platform. The younger figure looks down, while the older figure looks to the side, their expression unreadable. Wisps of smoke or fog drift around them.', 'startTime': '365', 'endTime': '368'}, {'index': 113, 'content': \"The older figure leans in towards the younger figure, their right hand extended as if to touch or guide them. Both figures appear to be in a state of distress or deep thought. The glowing effect on the older figure's hand is more pronounced.\", 'startTime': '368', 'endTime': '370'}, {'index': 114, 'content': \"The camera shifts to a closer view of the two figures' faces. The younger figure's eyes are wide and focused, with a faint blue glow. The older figure's face is also illuminated, with a more pronounced, almost strained expression.\", 'startTime': '370', 'endTime': '373'}, {'index': 115, 'content': \"The scene returns to a wider shot of the two figures on the platform. They are positioned similarly to the beginning, with the older figure's arm extended. The lighting remains ethereal, and the background is dark.\", 'startTime': '373', 'endTime': '377'}, {'index': 116, 'content': \"The two figures are shown on the platform, with the older figure's hand resting on the younger figure's shoulder. Both appear to be looking in the same direction, their expressions somber.\", 'startTime': '377', 'endTime': '378'}, {'index': 117, 'content': 'The scene transitions to a view of a complex, metallic structure with numerous wires and pipes. A bright light emanates from a central point within the structure, creating a tunnel-like effect. The overall impression is of a vast, intricate machine.', 'startTime': '378', 'endTime': '384'}, {'index': 118, 'content': 'The two figures reappear, standing on a platform in front of a large, circular structure adorned with multiple glowing lights. The older figure is now kneeling, while the younger figure stands upright. The scene is dimly lit, with the glowing lights providing the primary illumination.', 'startTime': '384', 'endTime': '386'}, {'index': 119, 'content': \"A close-up on the younger figure's face reveals a look of surprise or awe. Their hand is raised, as if reaching out towards something. The background is dark, with a smoky or hazy effect.\", 'startTime': '386', 'endTime': '388'}, {'index': 120, 'content': 'The scene shows the two figures standing on a platform within a complex, industrial-looking environment. Wires and metal structures surround them, and spotlights illuminate the area. The older figure appears to be pointing or gesturing towards something off-screen.', 'startTime': '388', 'endTime': '390'}, {'index': 121, 'content': 'Two figures stand on a metallic platform amidst a complex network of wires and pipes. The figure on the left is slender and appears to be a young man in a light-colored tunic and pants. The figure on the right is older, bald, with a prominent nose and chin, wearing a dark jacket over a maroon sweater. He leans on a cane with an ornate, claw-like tip. Bright lights illuminate the scene from above, casting long shadows.', 'startTime': '390', 'endTime': '397'}, {'index': 122, 'content': 'The younger figure turns and walks towards a brightly lit doorway. The older figure remains stationary, watching him. The background is a dark, industrial-looking space with many wires and metallic structures.', 'startTime': '397', 'endTime': '401'}, {'index': 123, 'content': 'The younger figure approaches the doorway, which emits a strong, white light. The older figure is now closer to the foreground, still observing. The scene is dimly lit except for the bright doorway and spotlights.', 'startTime': '401', 'endTime': '406'}, {'index': 124, 'content': 'The two figures are now in front of a plain, light-colored door with a horizontal handle. The door has text that reads \"SERVICE ENTRANCE\" in capital letters. The younger figure looks towards the door with a surprised expression, while the older figure, holding his cane, gestures towards the door with a stern look.', 'startTime': '406', 'endTime': '413'}, {'index': 125, 'content': \"The older figure continues to speak and gesture with his cane, his expression intense. The younger figure looks down, seemingly dejected or intimidated. The focus shifts slightly to the older figure's hand gripping the cane, which has a red element near the top.\", 'startTime': '413', 'endTime': '420'}, {'index': 126, 'content': 'A gaunt man with short, dark hair and a grey tunic looks to his left, while a bald man with a long beard and a dark green coat turns his head away from the camera. They are in a room with tiled walls and pipes overhead.', 'startTime': '421', 'endTime': '422'}, {'index': 127, 'content': 'The bald man, wearing a dark green coat over a red sweater, leans forward and speaks, holding a thin, stick-like object in his right hand. His face is close to the camera, and his mouth is open.', 'startTime': '422', 'endTime': '424'}, {'index': 128, 'content': 'The gaunt man in the grey tunic looks to his right with a concerned expression. The room appears to be a dimly lit, industrial space with tiled walls and overhead pipes.', 'startTime': '424', 'endTime': '426'}, {'index': 129, 'content': 'The gaunt man in the grey tunic looks to his right with a concerned expression. A faucet is visible on the tiled wall behind him.', 'startTime': '426', 'endTime': '427'}, {'index': 130, 'content': 'A close-up shows a circular, metallic object with a bright light in the center, set within a dark opening in the tiled wall.', 'startTime': '427', 'endTime': '428'}, {'index': 131, 'content': 'A pair of hands wearing fingerless gloves is shown against a tiled background, with the fingers spread slightly.', 'startTime': '428', 'endTime': '429'}, {'index': 132, 'content': 'The gaunt man stands to the left, raising his left arm, while the bald man crouches down in the center of the room. The room has tiled walls and a large fan in the background.', 'startTime': '429', 'endTime': '431'}, {'index': 133, 'content': 'The bald man in the dark green coat and red sweater is now standing and gesturing with his right hand, while the gaunt man on the left raises his left arm. They are in the same room with tiled walls and a large fan.', 'startTime': '431', 'endTime': '434'}, {'index': 134, 'content': 'The bald man turns his head and speaks, his face filling the frame. He is wearing a dark green coat over a red sweater and has a distinctive long beard.', 'startTime': '441', 'endTime': '444'}, {'index': 135, 'content': 'The gaunt man stands to the left, looking towards the bald man who is now facing away from the camera. The bald man is wearing a dark green coat and a red sweater.', 'startTime': '444', 'endTime': '447'}, {'index': 136, 'content': 'The bald man turns to face the gaunt man, gesturing with his hands. The gaunt man stands with his arms at his sides, looking at the bald man.', 'startTime': '447', 'endTime': '449'}, {'index': 137, 'content': 'The gaunt man turns his head to the left, while the bald man in the green coat and red sweater faces him, holding his hands out.', 'startTime': '449', 'endTime': '450'}, {'index': 138, 'content': 'A bald man with a prominent nose and goatee, wearing a dark green coat over a red sweater, stands in a room with green tiled walls. He is facing forward, with his hands held out in front of him. To his left, a sink is mounted on the wall. The room has pipes along the ceiling and a grate on the floor.', 'startTime': '450', 'endTime': '452'}, {'index': 139, 'content': 'A gaunt man with short, dark hair and wide eyes is shown in close-up. He appears to be speaking or reacting to something, with his mouth slightly open. The background is a green tiled wall.', 'startTime': '452', 'endTime': '457'}, {'index': 140, 'content': 'The bald man from the beginning of the clip is now shown in a close-up, looking directly at the camera with a stern expression. His hands are clenched into fists at his sides.', 'startTime': '457', 'endTime': '461'}, {'index': 141, 'content': 'The two men are now in a wider shot. The bald man is lunging forward, reaching out with his right hand towards the gaunt man, who is recoiling. The gaunt man appears to be falling backward.', 'startTime': '461', 'endTime': '463'}, {'index': 142, 'content': 'The gaunt man is shown in profile, looking to his left and touching his face with his hand. He appears to be speaking or reacting with surprise.', 'startTime': '463', 'endTime': '467'}, {'index': 143, 'content': 'The bald man stands in the center of the room with his arms outstretched, palms up, in a gesture of surrender or exasperation. The gaunt man is to his left, facing away from the camera and towards the wall.', 'startTime': '467', 'endTime': '470'}, {'index': 144, 'content': 'The gaunt man is shown from the side, looking towards a green tiled wall. He is standing still.', 'startTime': '470', 'endTime': '473'}, {'index': 145, 'content': 'The bald man is in the center of the room again, with his arms outstretched and his hands open. He appears to be speaking or making a dramatic gesture. The gaunt man is not visible in this shot.', 'startTime': '473', 'endTime': '475'}, {'index': 146, 'content': 'The gaunt man is shown from the side, looking towards the green tiled wall. His body is angled away from the camera.', 'startTime': '475', 'endTime': '478'}, {'index': 147, 'content': 'The gaunt man stands in the middle of the room, facing away from the camera and towards the wall. He has his arms extended to the sides, with his palms facing forward.', 'startTime': '478', 'endTime': '480'}, {'index': 148, 'content': 'In a dimly lit, grimy tiled room, a thin man in a long gray shirt and pants stands with a tense posture near a corner where dark, thick, tentacle-like vines creep along the walls and floor. The atmosphere is eerie and oppressive, with shadows cast by the strange growths.', 'startTime': '481', 'endTime': '485'}, {'index': 149, 'content': 'The man cautiously extends his arms toward the writhing tentacles that have spread extensively across the corner of the room, their dark reddish and brown hues contrasting with the dull green tiles. The vines appear alive, twisting and curling as they envelop the space.', 'startTime': '485', 'endTime': '490'}, {'index': 150, 'content': 'An older bald man with prominent sideburns, wearing a dark green coat over a red sweater, appears in the same grim room. He looks upward with a concerned expression, illuminated by the dim light and surrounded by the creeping tentacles.', 'startTime': '490', 'endTime': '495'}, {'index': 151, 'content': 'The older man moves through the room filled with the sprawling, thick tentacles that snake across the walls and floor. The environment glows with an ominous orange light, casting long shadows and highlighting the grotesque organic structures.', 'startTime': '495', 'endTime': '500'}, {'index': 152, 'content': 'The thin man, now surrounded by the glowing orange tentacles, gestures with his hands as if trying to communicate or control the environment. His expression shifts from tense to more animated as he interacts with the strange surroundings.', 'startTime': '500', 'endTime': '505'}, {'index': 153, 'content': 'The older man, still in the tentacle-filled chamber, covers his face with his hands in apparent distress or frustration. The glowing orange tendrils swirl around him, creating a surreal and unsettling atmosphere.', 'startTime': '505', 'endTime': '510'}, {'index': 154, 'content': 'A bald man in a dark green coat and red shirt stands facing away from the camera, looking at a large, complex structure made of wires and organic-looking elements. The environment is dimly lit with a golden hue, and beams of light cut through the haze.', 'startTime': '511', 'endTime': '512'}, {'index': 155, 'content': 'The man in the green coat crouches down, his back to the camera, as if examining something on the floor. In the background, a smaller, slender figure stands amidst the intricate wiring.', 'startTime': '512', 'endTime': '514'}, {'index': 156, 'content': \"The man's face is now visible as he looks down, his expression strained. He is wearing a dark coat over a red shirt, and his bald head is prominent. The background shows the complex, organic-looking structure with glowing red nodes.\", 'startTime': '514', 'endTime': '519'}, {'index': 157, 'content': \"The camera focuses on the man's face, showing his wrinkled skin and intense gaze as he looks upwards. The background is filled with glowing, thread-like structures.\", 'startTime': '519', 'endTime': '524'}, {'index': 158, 'content': 'A different, gaunt figure with short hair and a light-colored shirt is visible in the background, appearing somewhat distorted. The man in the green coat is partially visible in the foreground.', 'startTime': '521', 'endTime': '523'}, {'index': 159, 'content': \"The gaunt figure's head is tilted back, mouth open, with wires seemingly attached to its head. The man in the green coat is in the background, his posture suggesting he is observing.\", 'startTime': '523', 'endTime': '525'}, {'index': 160, 'content': 'The slender figure, now more clearly visible, stands in a pose of distress or surrender. The man in the green coat is seen in the background, appearing to move towards the figure.', 'startTime': '525', 'endTime': '527'}, {'index': 161, 'content': 'The man in the green coat walks forward, holding a thin, glowing rod. He is looking directly at the camera. The background is filled with abstract, glowing lines and structures.', 'startTime': '527', 'endTime': '530'}, {'index': 162, 'content': 'The man continues to walk forward, his expression unreadable. The environment is dominated by the golden, hazy light and the complex network of wires.', 'startTime': '530', 'endTime': '534'}, {'index': 163, 'content': 'A figure lies prone on the floor, surrounded by wires, while the man in the green coat crouches over them, reaching out a hand. The scene is dimly lit with a golden glow.', 'startTime': '534', 'endTime': '540'}, {'index': 164, 'content': \"An older man in a dark robe leans over a younger person lying on the floor. The floor is made of square tiles, and many thick, dark, segmented tubes are scattered around them. The younger person's arm is outstretched, with their hand glowing faintly.\", 'startTime': '540', 'endTime': '545'}, {'index': 165, 'content': 'The camera focuses on the outstretched hand of the person on the floor, surrounded by the segmented tubes. The hand is illuminated, and the tubes are dark and coiled.', 'startTime': '545', 'endTime': '556'}, {'index': 166, 'content': 'The scene transitions to a black screen with white text listing the \"Orange Open Movie Team\". Below this title, names are listed with their corresponding roles, such as Director, Art Director, Lead Artist, and Technical Director.', 'startTime': '566', 'endTime': '570'}, {'index': 167, 'content': 'The screen displays the title \"Orange Open Movie Team\" followed by a list of names and their roles. The roles include Director, Art Director, Lead Artist, and Technical Director, with corresponding names listed next to them. A decorative white flourish is visible in the bottom left corner.', 'startTime': '571', 'endTime': '579'}, {'index': 168, 'content': 'The screen is black with the text \"Music and Sound Design\" followed by the name \"Jan Morgenstern\". A decorative white flourish is visible in the bottom right corner.', 'startTime': '579', 'endTime': '583'}, {'index': 169, 'content': 'The screen is black with the text \"Emo\" and \"Cas Jansen\", followed by \"Proog\" and \"Tygo Gernandt\". A decorative white flourish is visible in the bottom right corner.', 'startTime': '583', 'endTime': '585'}, {'index': 170, 'content': 'The screen displays \"Screenplay\" followed by \"Pepijn Zwanenberg\". Below that, \"Original Concept & Scenario\" is listed with names \"Andreas Goralczyk\", \"Bassam Kurdali\", and \"Ton Roosendaal\". A decorative white flourish is visible in the bottom right corner.', 'startTime': '585', 'endTime': '590'}, {'index': 171, 'content': 'The screen is black with the text \"Additional Artwork and Animation\" followed by a list of names: \"Enrico Valenza\", \"D. Roland Hess\", \"Robert Ives\", and \"Joeri Kassenaar\". Below this, \"Texture Photography\" is listed with names \"Andrea Weikert\", \"Campbell Barton\", \"Charles Wardlaw\", \"D. Roland Hess\", \"Dan LeFebvre\", \"Daniel Freeman\", and \"Fintan Boyle\" on the left, and \"Gez\", \"Kernon Dillon\", \"Lozeta\", \"Matthijs Zwinderman\", \"Noah Wiswell\", and \"Steven Chan\" on the right.', 'startTime': '590', 'endTime': '596'}, {'index': 172, 'content': 'The screen displays \"Software Development\" with names \"Andrea Weikert\", \"Brecht van Lommel\", \"Chris Want\", \"D. Roland Hess\", \"Jiri Hnidek\", and \"Joe Eagar\" on the left, and \"Johnny Matthews\", \"Kent Mein\", \"Nathan Letwory\", \"Peter Schlaile\", \"Toni Alatalo\", and \"Ton Roosendaal\" on the right. Below this, the text \"And the entire blender.org development team\" is displayed. Finally, \"3D Modeling, Animation, Rendering, Compositing Software\" and \"Blender\" are shown at the bottom.', 'startTime': '596', 'endTime': '600'}, {'index': 173, 'content': 'The screen displays credits for \"Texture Photography\" with names like Andrea Weikert, Campbell Barton, and Charles Wardlaw listed. Below this, \"Software Development\" is shown, followed by a list of developers including Andrea Weikert, Johnny Matthews, and Kent Mein. The text \"And the entire blender.org development team\" appears next, followed by \"3D Modeling, Animation, Rendering, Compositing Software\" and \"Blender\".', 'startTime': '600', 'endTime': '603'}, {'index': 174, 'content': 'The credits continue with \"Special Thanks to Open Source Projects\", listing Gimp, Python, OpenEXR, Verse, CinePaint, and Inkscape on the left, and Twisted, Ubuntu Linux, KDE, GNOME, DrQueue, and Subversion on the right. Below this, \"Rendering Services Provided by\" is displayed, followed by \"Bowie State University Xseed\".', 'startTime': '603', 'endTime': '605'}, {'index': 175, 'content': 'Further credits include \"Dr. Calvin W. Lowe, President\" and \"Prof. Mark Alan Matties, Director\", along with a website address \"http://xseed.bowiestate.edu\". The section \"Hardware Sponsored By\" is shown, followed by \"Sun Microsystems\". The \"Casting\" section lists Marina Wijn and Kemna Casting.', 'startTime': '605', 'endTime': '608'}, {'index': 176, 'content': 'The credits progress to \"Sound FX, Foley, Dialogue Editing, Audio Mix and Post\", with \"Jan Morgenstern\" listed. The text \"at Wavemage Media Production, Germany\" and a website \"http://www.wavemage.com\" are displayed. \"Voice Recording\" is shown, followed by \"Earforce, Amsterdam\".', 'startTime': '608', 'endTime': '611'}, {'index': 177, 'content': 'The credits continue with \"HDCam Conversion\" and \"BBP Digital Intermediate, Amsterdam\". \"Netherlands Media Art Institute Staff\" is listed, followed by \"Producers\" with names like Annet Dekker and Gaby Weijers. \"Finances\" lists Lidy klein Gunnewiek, and \"Production Assistance\" includes Barbara de Preter and Marieke Istha. \"Technical Staff\" lists Wiel Seuskens and Robert de Geus.', 'startTime': '611', 'endTime': '616'}, {'index': 178, 'content': 'The \"Blender Foundation Staff\" section begins, listing \"Production Assistance\" with Angela Plohman, \"Finances\" with Anja Vugts-Verstappen, and \"Technical Support\" with Bart Veldhuizen, Marco Walraven, Timothy Kanters, and Stefan Arentz. \"Many Thanks to our Donation and DVD Sponsors\" is displayed.', 'startTime': '616', 'endTime': '618'}, {'index': 179, 'content': 'A long list of names appears under \"Many Thanks to our Donation and DVD Sponsors\", starting with \"Campbell Barton, Chris Want, Jonathan Merritt, Kent Mein, Matt Ebb\". This is followed by a more extensive list of names, including Aaron Mitchell, Adam Josephson, Adrian Giddings, Akio Koyama, Alan Taylor, Albano Bermejo, Albrecht Jacobs, Alejandro Aguilar Sierra, Alessandro Riva, Alex Buck, Alex Ruano, Alexander Clausen, Alexander Ehrath, Alexander Ewerling, Alexander Speigner, Allan Middleton, Analel Verrier, Anders Dys, Andrea Weikert, Andrea Barolo, Andrea Franceschini, Andreas \\'anti\\' Neukoetter, Andreas Erhart, Andreas Klusi, Andres Meyer, Andrew Vogel, Andrew Cavanagh, Andrew Sinclair, Andy Kopra, Antoine Vanoutryve, Anton Wedemeier, and Anton Gregori, Aristide Lai.', 'startTime': '618', 'endTime': '622'}, {'index': 180, 'content': 'The list of sponsors continues with \"Bahram Shahnazi, Basso Marco, Bastian Angermann, Bastian Schneck, Ben Watt, Benjamin Moore, Benjamin Freundorfer, benoit foucque, benoit Nadeau, Bjorn Wijers, Bjorn Windshugel, Bob Bayens, Bob Begine, Bo_Johansen, Bram Vogelaar, Brendan Carroll, Brian Clark, Brian Springstead, Burton B Bicksler\". Another list of names follows, including Camille Moulin, Carl Witty, Carlos Folch, Carlos López, Carsten Tigges, Cesar Gomez, Charles Pax, Charles Sinkovic, Christian Struck, Christian Wahlgren, Christian Le Bars, Christian Sommer, Christophe Jurzynski, Christo Badenhorst, Chirupalla Dominique, Chuang Pin, Codon Antonio, Colin Litster, Cornell Göksu, County Didier, Craig Robinson.', 'startTime': '622', 'endTime': '626'}, {'index': 181, 'content': 'The sponsor list continues with \"Dale Tacy, Damien Plisson, Damijan Andrejka, Daniel Boyle, Daniel Coik, Daniel Collado, Daniel Cox, Daniel Torres, Daniel Fournier, Daniel Faulkner, Daniel Flaum, Daniel Halfer, Daniel Lipinski, Daniel Klaue, Daniel Genrich, Danny Cools, Dario Spagnolo, Dario Trombino, David Sicart, David Darrell, David Dedecheck, David Bourguignon, David Janssens, David Feeney, David Gellhardt, David Quinn, David Prieto, Demian Salvador, Denis Moreaux, Denis Crucifix, Detlef Mueller, Di Fiorio Corrado, Dietrich Bollmann, Dominique Dutoit, Douglas Fellows, Dwayne Schnell\".', 'startTime': '626', 'endTime': '629'}, {'index': 182, 'content': 'The credits continue with \"Ed Quick, Edmund Chan, Eduardo Llaguno, Eduardo Guzman Mari, Eduardo Teixeira, Edward Kosinski, Eelkko Giels, Emilie and Chris Burt, Emilio José Molina Cazorla, Eric Boivin, Eric Forsythe, Etienne Lauvergnier, Ewout Fernhout\". Following this is \"Fabien Nguyen, Fabio Comuni, Fabrizio Remiddi, Farrell Farahbod, Felipe Fontova Requant, Felix Esser, Fernando Buelna Sanchez, Flavio Curti, Florian Findeiss, Florian Zwerina, Francois Thibault, Frank Homann, Frank Rutter, Frans Marks, Frédérick Morelle, Furio Azzolini\".', 'startTime': '629', 'endTime': '630'}, {'index': 183, 'content': 'The screen displays a list of names, likely credits for a film or project. The names are presented in white text against a black background, arranged in columns.', 'startTime': '630', 'endTime': '642'}, {'index': 184, 'content': 'The screen displays text indicating that \"Elephants Dream\" was realized with financial support from several organizations. These include The Netherlands Film Fund, Mondriaan Foundation, VSBfonds, and the Uni-Verse / EU Sixth Framework Programme.', 'startTime': '642', 'endTime': '647'}, {'index': 185, 'content': 'The screen shows production credits, stating \"Produced By Ton Roosendaal\". It also includes copyright information for \"Copyright 2006\", followed by \"Netherlands Media Art Institute / Montevideo\" and \"Blender Foundation\". At the bottom, a line reads, \"This movie is published under a Creative Commons License. For details see http://www.elephantsdream.org\".', 'startTime': '647', 'endTime': '654'}]}, 'success': True, 'failed': False}\n"
     ]
    }
   ],
   "source": [
    "headers = {\"Authorization\": API_KEY}\n",
    "params = {\"video_no\": \"VI611471886560694272\"}\n",
    "\n",
    "response = requests.get(\"https://api.memories.ai/serve/api/video/get_video_transcription\", headers=headers, params=params)\n",
    "\n",
    "print(\"Status:\", response.status_code)\n",
    "try:\n",
    "    print(\"Video Transcription Response:\", response.json())\n",
    "except Exception:\n",
    "    print(\"Response Text:\", response.text)"
   ]
  },
  {
   "cell_type": "markdown",
   "id": "337d9b68",
   "metadata": {},
   "source": [
    "## Audio Transcription\n",
    "\n",
    "Use the API to convert a video’s **spoken audio** into text.\n",
    "\n",
    "> **Note:** The video must contain audible speech for transcription to work correctly.\n"
   ]
  },
  {
   "cell_type": "code",
   "execution_count": null,
   "id": "a07708d8",
   "metadata": {},
   "outputs": [
    {
     "name": "stdout",
     "output_type": "stream",
     "text": [
      "Status: 200\n",
      "Video Transcription Response: {'code': '0000', 'msg': 'success', 'data': None, 'success': True, 'failed': False}\n"
     ]
    }
   ],
   "source": [
    "headers = {\"Authorization\": API_KEY}\n",
    "params = {\"video_no\": \"VI611471886560694272\"}\n",
    "\n",
    "response = requests.get(\"https://api.memories.ai/serve/api/v1/get_audio_transcription\", headers=headers, params=params)\n",
    "\n",
    "print(\"Status:\", response.status_code)\n",
    "try:\n",
    "    print(\"Video Transcription Response:\", response.json())\n",
    "except Exception:\n",
    "    print(\"Response Text:\", response.text)"
   ]
  },
  {
   "cell_type": "markdown",
   "id": "331c1b2f",
   "metadata": {},
   "source": [
    "## Generate Video Summary\n",
    "\n",
    "Use the API to create a concise summary of a video’s content.\n",
    "\n",
    "The `type` parameter accepts:\n",
    "- `\"TOPIC\"` \n",
    "- `\"CHAPTER\"` \n"
   ]
  },
  {
   "cell_type": "code",
   "execution_count": null,
   "id": "8ef0c7b9",
   "metadata": {},
   "outputs": [
    {
     "name": "stdout",
     "output_type": "stream",
     "text": [
      "Status: 200\n",
      "Summary Response: {'code': '0000', 'msg': 'success', 'data': {'summary': 'This animated short film follows the journey of two characters, Emo and Proog, through a surreal and industrial world filled with intricate machinery and strange organic elements. Proog attempts to guide Emo, who struggles to perceive the beauty and purpose of their surroundings. The film explores themes of perception, trust, and the struggle to find meaning in a complex and unsettling environment. The narrative is accompanied by abstract visuals and cryptic dialogue, culminating in a sense of uncertainty and the unknown.', 'items': [{'description': \"• Proog guides Emo through a complex, metallic environment.\\n• Proog urges Emo to get up, stating it's not safe.\", 'title': 'The Journey Begins'}, {'description': \"• Proog emphasizes the importance of listening to the sounds of the machine and one's own breathing.\\n• The dialogue touches on the potential danger they face.\", 'title': 'The Importance of Listening'}, {'description': '• Proog questions Emo\\'s perception and whether he desires to be reduced to \"pulp.\"\\n• Proog attempts to guide Emo by having him close his eyes and describe what he sees to the left and right, but Emo sees nothing.', 'title': 'Perception and Purpose'}, {'description': '• Proog tries to persuade Emo of the beauty of their surroundings.\\n• Emo questions why he should trust his life to something that isn\\'t there.\\n• Proog presents illusions like \"the hanging gardens of Babylon\" and \"the Colossus of Rhodos,\", but Emo doesn\\'t see them.', 'title': 'Trust and Illusions'}, {'description': '• Emo\\'s inability to perceive the world around him causes frustration for Proog.\\n• Proog references validation, profundity, diplom king, justice, comfort, Schuldiness, Captain cocktail, black movie moans, Pleomie wares, and goal, in an impassioned rant, trying to get Emo to understand his point of view.\\n• The scene ends with Proog insisting that \"it\" (the beauty and wonder of the world he sees) is there.', 'title': 'Frustration and Revelation'}, {'description': '• The film concludes with a list of credits, thanking the Orange Open Movie Team, various artists and developers, and organizations that provided financial and technical support.', 'title': 'Credits and Acknowledgments'}], 'totalInput': '13773', 'totalOutput': '554'}, 'success': True, 'failed': False}\n"
     ]
    }
   ],
   "source": [
    "headers = {\"Authorization\": API_KEY}\n",
    "params = {\n",
    "    \"video_no\": \"VI611471886560694272\",\n",
    "    \"type\": \"TOPIC\"\n",
    "}\n",
    "\n",
    "response = requests.get(\"https://api.memories.ai/serve/api/video/generate_summary\", headers=headers, params=params)\n",
    "\n",
    "print(\"Status:\", response.status_code)\n",
    "try:\n",
    "    print(\"Summary Response:\", response.json())\n",
    "except Exception:\n",
    "    print(\"Response Text:\", response.text)"
   ]
  },
  {
   "cell_type": "markdown",
   "id": "23f7a696",
   "metadata": {},
   "source": [
    "# Utility\n",
    "There are also utility APIs for managing and retrieving metadata about videos and sessions in the Memories.ai platform."
   ]
  },
  {
   "cell_type": "markdown",
   "id": "92d6dadd",
   "metadata": {},
   "source": [
    "# List Videos\n",
    "You can retrieve a paginated list of videos that have been uploaded to the platform. You can optionally filter the results by video name, video ID, folder, or processing status."
   ]
  },
  {
   "cell_type": "code",
   "execution_count": null,
   "id": "7a99ccd7",
   "metadata": {},
   "outputs": [
    {
     "name": "stdout",
     "output_type": "stream",
     "text": [
      "{'code': '0000', 'msg': 'success', 'data': {'videos': [{'duration': '653', 'size': '169612362', 'status': 'PARSE', 'cause': 'null', 'video_no': 'VI611471886560694272', 'video_name': 'ElephantsDream', 'create_time': '1755245460412'}, {'duration': '426', 'size': '208935734', 'status': 'PARSE', 'cause': 'null', 'video_no': 'VI611165958140055552', 'video_name': 'onlychats', 'create_time': '1755172519391'}, {'duration': '426', 'size': '208935734', 'status': 'PARSE', 'cause': 'null', 'video_no': 'VI611154695637032960', 'video_name': 'onlychats', 'create_time': '1755169834208'}, {'duration': '0', 'size': '10768051', 'status': 'FAIL', 'cause': 'Indexing failed. ', 'video_no': 'VI611151298850443264', 'video_name': 'onlychats', 'create_time': '1755169024347'}, {'duration': '653', 'size': '169612362', 'status': 'PARSE', 'cause': 'null', 'video_no': 'VI611145110490705920', 'video_name': 'ElephantsDream', 'create_time': '1755167548927'}, {'duration': '0', 'size': '169612362', 'status': 'FAIL', 'cause': 'Indexing failed. ', 'video_no': 'VI608246666733387776', 'video_name': 'ElephantsDream', 'create_time': '1754476506073'}, {'duration': '0', 'size': '142224304', 'status': 'UNPARSE', 'cause': 'null', 'video_no': 'VI608245444483842048', 'video_name': 'new_Art_2', 'create_time': '1754476214665'}, {'duration': '51', 'size': '50248435', 'status': 'PARSE', 'cause': 'null', 'video_no': 'VI605983006653673472', 'video_name': '足球', 'create_time': '1753936807477'}, {'duration': '1903', 'size': '0', 'status': 'PARSE', 'cause': 'null', 'video_no': 'VI589825920903286784', 'video_name': '实习医生罗帅宇到底是怎么死的？姗姗来迟的官方调查报告又掩饰了什么？｜湘雅二医院｜刘翔峰｜器官买卖｜医疗黑幕｜王局拍案 20250616', 'create_time': '1750084657985'}, {'duration': '996', 'size': '144144991', 'status': 'PARSE', 'cause': 'null', 'video_no': 'VEI512262412745834496', 'video_name': '2001: A Space Odyssey', 'create_time': '1731593434695'}, {'duration': '1776', 'size': '615901207', 'status': 'PARSE', 'cause': 'null', 'video_no': 'VEI512268109118177280', 'video_name': 'Coastal Town Scenery Sample Shots', 'create_time': '1731593434696'}, {'duration': '2625', 'size': '527944002', 'status': 'PARSE', 'cause': 'null', 'video_no': 'VEI512268579291267072', 'video_name': 'Lionel Messi - King Of Football', 'create_time': '1731593546794'}, {'duration': '681', 'size': '364848185', 'status': 'PARSE', 'cause': 'null', 'video_no': 'VEI512268938856366080', 'video_name': 'The Fish That Hunts Pigeons', 'create_time': '1731593632523'}, {'duration': '451', 'size': '0', 'status': 'PARSE', 'cause': 'null', 'video_no': 'VEI520787794688212992', 'video_name': \"Tesla's 'We, Robot' Event: Everything Revealed in 8 Minutes\", 'create_time': '1733624686061'}, {'duration': '1120', 'size': '0', 'status': 'PARSE', 'cause': 'null', 'video_no': 'VEI520787842482307072', 'video_name': 'But what is a neural network? | Deep learning chapter 1', 'create_time': '1733624697455'}, {'duration': '767', 'size': '0', 'status': 'PARSE', 'cause': 'null', 'video_no': 'VEI520787915781963776', 'video_name': 'Backpropagation, step-by-step | DL3', 'create_time': '1733624714932'}, {'duration': '617', 'size': '0', 'status': 'PARSE', 'cause': 'null', 'video_no': 'VEI520787945272115200', 'video_name': 'Backpropagation calculus | DL4', 'create_time': '1733624721962'}, {'duration': '1442', 'size': '0', 'status': 'PARSE', 'cause': 'null', 'video_no': 'VEI520789069840515072', 'video_name': 'Meet The New Mark Zuckerberg | The Circuit', 'create_time': '1733624990080'}, {'duration': '1526', 'size': '0', 'status': 'PARSE', 'cause': 'null', 'video_no': 'VEI520789119123587072', 'video_name': 'Mark Zuckerberg : How to Build the Future', 'create_time': '1733625001831'}, {'duration': '748', 'size': '0', 'status': 'PARSE', 'cause': 'null', 'video_no': 'VEI520789171774685184', 'video_name': '送给所有知道我名字的人！For Everyone Who Knows My Name.丨Liziqi Channel', 'create_time': '1733625014383'}, {'duration': '3615', 'size': '0', 'status': 'PARSE', 'cause': 'null', 'video_no': 'VEI520790850570027008', 'video_name': 'A fireside chat with Sam Altman OpenAI CEO at Harvard University', 'create_time': '1733625414639'}, {'duration': '130', 'size': '0', 'status': 'PARSE', 'cause': 'null', 'video_no': 'VEI520790876012675072', 'video_name': 'Kanye West & Lil Pump - I Love It feat. Adele Givens [Official Music Video]', 'create_time': '1733625420705'}, {'duration': '522', 'size': '0', 'status': 'PARSE', 'cause': 'null', 'video_no': 'VEI520790929762680832', 'video_name': 'Interstellar theme song - video', 'create_time': '1733625433520'}, {'duration': '60', 'size': '0', 'status': 'PARSE', 'cause': 'null', 'video_no': 'VEI520870203676950528', 'video_name': '4K Restoration: 1984 Super Bowl APPLE MACINTOSH Ad by Ridley Scott', 'create_time': '1733644333894'}, {'duration': '1233', 'size': '0', 'status': 'PARSE', 'cause': 'null', 'video_no': 'VEI520870343917699072', 'video_name': 'Gradient descent, how neural networks learn | DL2', 'create_time': '1733644367326'}], 'current_page': 1, 'page_size': 200, 'total_count': '25'}, 'success': True, 'failed': False}\n"
     ]
    }
   ],
   "source": [
    "headers = {\"Authorization\": API_KEY}\n",
    "\n",
    "json_body = {\n",
    "    \"page\": 1,\n",
    "    \"size\": 200,\n",
    "    # \"video_name\": \"<VIDEO_NAME>\",\n",
    "    # \"video_no\": \"<VIDEO_ID>\",\n",
    "    # \"unique\": \"<UNIQUE_ID>\",\n",
    "    # \"status\": \"<STATUS>\",\n",
    "}\n",
    "\n",
    "response = requests.post(\"https://api.memories.ai/serve/api/video/list_videos\", headers=headers, json=json_body)\n",
    "print(response.json())"
   ]
  },
  {
   "cell_type": "markdown",
   "id": "f8f30451",
   "metadata": {},
   "source": [
    "# List Chat Sessions\n",
    "You can retrieve a paginated list of historical chat sessions, including metadata such as session IDs, timestamps, and related videos."
   ]
  },
  {
   "cell_type": "code",
   "execution_count": null,
   "id": "7c21e601",
   "metadata": {},
   "outputs": [
    {
     "name": "stdout",
     "output_type": "stream",
     "text": [
      "{'code': '0000', 'msg': 'success', 'data': {'sessions': [{'sessionId': '608224587769520128', 'title': 'Summarize this video'}, {'sessionId': '564586841416663040', 'title': 'what is this video about'}, {'sessionId': '553235038557175808', 'title': 'Advertisement Analysis and Recommendations'}, {'sessionId': '553235038557175809', 'title': 'Analysis of Zuckerberg Interview'}, {'sessionId': '553235038557175810', 'title': 'Discussion on MV Story and Concept'}, {'sessionId': '553235038557175811', 'title': 'Learn How to Make Sushi'}, {'sessionId': '553235038557175812', 'title': 'Neural Network Course Study'}, {'sessionId': '553235038557175813', 'title': \"Tesla's EV and robot advancements\"}, {'sessionId': '553235038557175814', 'title': 'Threads of Time: A Journey Back'}, {'sessionId': '553235038557175815', 'title': 'Analysis of Interstellar'}, {'sessionId': '553235038557175816', 'title': 'Summary of Altman'}], 'current_page': 1, 'page_size': 20, 'total_count': '11'}, 'success': True, 'failed': False}\n"
     ]
    }
   ],
   "source": [
    "headers = {\"Authorization\": API_KEY}\n",
    "\n",
    "params = {\n",
    "    \"page\": \"1\"\n",
    "}\n",
    "\n",
    "response = requests.get(\"https://api.memories.ai/serve/api/video/list_sessions\", headers=headers, params=params)\n",
    "print(response.json())"
   ]
  },
  {
   "cell_type": "markdown",
   "id": "19e0f24f",
   "metadata": {},
   "source": [
    "# Get Session Detail\n",
    "You can retrieve detailed metadata about a specific video session.\n",
    "From last block, we can choose a sessionId"
   ]
  },
  {
   "cell_type": "code",
   "execution_count": null,
   "id": "b1d024dd",
   "metadata": {},
   "outputs": [
    {
     "name": "stdout",
     "output_type": "stream",
     "text": [
      "Session detail retrieved successfully:\n",
      "{'code': '0000', 'msg': 'success', 'data': {'title': 'Learn How to Make Sushi', 'messages': [{'role': 'user', 'content': 'What is this video about'}, {'role': 'assistant', 'content': 'This video is a sushi-making tutorial. A professional chef demonstrates how to make kappamaki (cucumber rolls) and tekkamaki (tuna rolls) at home, covering techniques from preparing the sushi rice to rolling and cutting the sushi.  He emphasizes the importance of properly cooked rice and using sushi-grade fish. He also provides tips for handling sushi rice and achieving a good roll.\\n'}, {'role': 'user', 'content': 'Which step in the sushi making process is more difficult for a novice?'}, {'role': 'assistant', 'content': \"Handling the sushi rice is one of the most difficult parts of making sushi for a novice.  It takes practice to get the right amount of moisture on your hands so the rice doesn't stick.\\n\"}], 'session_id': '553235038557175811'}, 'failed': False, 'success': True}\n"
     ]
    }
   ],
   "source": [
    "headers = {\"Authorization\": API_KEY}\n",
    "params = {\"sessionId\": 553235038557175811}\n",
    "\n",
    "response = requests.get(\"https://api.memories.ai/serve/api/video/get_session_detail\", headers=headers, params=params)\n",
    "\n",
    "if response.status_code == 200:\n",
    "    print(\"Session detail retrieved successfully:\")\n",
    "    print(response.json())\n",
    "else:\n",
    "    print(\"Failed to retrieve session detail:\", response.status_code)\n",
    "    print(response.text)"
   ]
  },
  {
   "cell_type": "markdown",
   "id": "f510653e",
   "metadata": {},
   "source": [
    "# Delete Video\n",
    "You can delete all raw and derived data associated with the specified videoNos in the request. Once the API call is successfully completed, no data related to the deleted videos will be retained."
   ]
  },
  {
   "cell_type": "code",
   "execution_count": null,
   "id": "1e36e430",
   "metadata": {},
   "outputs": [
    {
     "name": "stdout",
     "output_type": "stream",
     "text": [
      "{'code': '0000', 'msg': 'success', 'data': None, 'success': True, 'failed': False}\n"
     ]
    }
   ],
   "source": [
    "headers = {\"Authorization\": API_KEY}  \n",
    "# List of video IDs to delete\n",
    "data = [\"VI611165958140055552\",\"VI611154695637032960\"]\n",
    "\n",
    "response = requests.post(\n",
    "    \"https://api.memories.ai/serve/api/video/delete_videos\",\n",
    "    headers=headers,\n",
    "    json=data\n",
    ")\n",
    "\n",
    "print(response.json())"
   ]
  }
 ],
 "metadata": {
  "kernelspec": {
   "display_name": "Python 3",
   "language": "python",
   "name": "python3"
  },
  "language_info": {
   "codemirror_mode": {
    "name": "ipython",
    "version": 3
   },
   "file_extension": ".py",
   "mimetype": "text/x-python",
   "name": "python",
   "nbconvert_exporter": "python",
   "pygments_lexer": "ipython3",
   "version": "3.12.9"
  }
 },
 "nbformat": 4,
 "nbformat_minor": 5
}
