{
 "cells": [
  {
   "cell_type": "markdown",
   "id": "33d669fb",
   "metadata": {},
   "source": [
    "# Welcome — Using the Memories.AI API for public videos\n",
    "\n",
    "This Jupyter notebook guides you through using the [Memories.AI API](https:memories.ai/docs), specifically for public video sources. It contains search, transcribe, and utility functions, for you to run and adapt.\n",
    "\n",
    "To use the API with your private videos, please refer to API_showcase.ipynb"
   ]
  },
  {
   "cell_type": "markdown",
   "id": "d5787c0c",
   "metadata": {},
   "source": [
    "## Prerequisites\n",
    "\n",
    "- Python 3.8+ running in a Jupyter environment (Notebook, JupyterLab, or Colab).\n",
    "- Package:\n",
    "  - `requests`\n",
    "\n",
    "- An API key: Save it here.\n",
    "- You’re familiar with the concepts described in API_showcase.ipynb"
   ]
  },
  {
   "cell_type": "code",
   "execution_count": null,
   "id": "a23e0529",
   "metadata": {},
   "outputs": [],
   "source": [
    "API_KEY = \"<YOUR_API_KEY>\" # Your memories.ai API key"
   ]
  },
  {
   "cell_type": "markdown",
   "id": "6091fe6a",
   "metadata": {},
   "source": [
    "## Search from public video sources\n",
    "\n",
    "You can search vidoes from public video platforms such as TikTok, using natural language query.\n",
    "\n",
    "To find the most relevant clips, you can search by\n",
    "- `\"BY_AUDIO\"` \n",
    "- `\"BY_VIDEO\"` \n",
    "- `\"BY_CLIP\"` \n",
    "\n"
   ]
  },
  {
   "cell_type": "code",
   "execution_count": 2,
   "id": "a880033b",
   "metadata": {},
   "outputs": [
    {
     "name": "stdout",
     "output_type": "stream",
     "text": [
      "{'code': '0000', 'msg': 'success', 'data': [{'videoNo': 'PI-603031026511516197', 'videoName': '\"Go Mom!\" ❤️😂🤘 #KeithUrban #TODAYShow\\nSponsored by Citi.', 'startTime': 'null', 'endTime': 'null'}, {'videoNo': 'PI-603521765934764187', 'videoName': \"Mike Shinoda talks about the Beastie Boys' massive impact on his music, sharing how he’d dive into their tracks, dissecting the samples and the blend of genres that shaped his own sound on the latest episode of #ideageneration💡\\n\\n#mikeshinoda #beastieboys #linkinpark\", 'startTime': 'null', 'endTime': 'null'}, {'videoNo': 'PI-602895131619758208', 'videoName': 'When #TheBatman director Matt Reeves was writing the film’s script, he imagined Robert Pattinson in the role. | Variety #DirectorsOnDirectors presented by @amazonmgmstudios', 'startTime': 'null', 'endTime': 'null'}, {'videoNo': 'PI-603078841149297432', 'videoName': \"Heavy metal legend Ozzy Osbourne has died at the age of 76. Osbourne rose to fame as the lead singer of groundbreaking heavy metal band Black Sabbath before embarking on a triumphant solo career. NBC News' Joe Fryer takes a look back at his life.\", 'startTime': 'null', 'endTime': 'null'}, {'videoNo': 'PI-597602006701576232', 'videoName': 'Happy birthday @ringostarrmusic! Peace and love ✌️\\n\\n#ladbible #thebeatles #ringostarr #wholesome #celebrities #birthday #nationaltreasure #icon #legends', 'startTime': 'null', 'endTime': 'null'}, {'videoNo': 'PI-603073808039022675', 'videoName': \"Ozzy Osbourne, the hellraising frontman of Black Sabbath and reality TV star, has died aged 76. CNN's Stephanie Elam looks back at the legendary career as the Godfather of Heavy Metal.\", 'startTime': 'null', 'endTime': 'null'}, {'videoNo': 'PI-600998367572660583', 'videoName': 'I can’t imagine not being able to see colors 😳 #morbidfacts #mrbeast #history #fyp ', 'startTime': 'null', 'endTime': 'null'}, {'videoNo': 'PI-602735673711136801', 'videoName': 'Comment your favorite performance?\\n#song #music #lyrics #musicanylistz #teamwork #creatorsearchinsights', 'startTime': 'null', 'endTime': 'null'}, {'videoNo': 'PI-603078841153491045', 'videoName': 'Black Sabbath frontman Ozzy Osbourne has died at the age of 76.\\n\\nHe had been diagnosed with Parkinson’s disease in 2019.\\n\\nAs frontman of Black Sabbath, he was at the forefront of the heavy metal scene – a deeper, darker offshoot of hard rock.His theatrical stage presence, including once biting off the head of a bat, and styling himself as the Prince of Darkness marked him out as a controversial figure.#news #itvnews #ozzyosbourne', 'startTime': 'null', 'endTime': 'null'}, {'videoNo': 'PI-600997782429503779', 'videoName': 'How Ringo Starr Joined The Beatles #beatles #storytime #truecrime ', 'startTime': 'null', 'endTime': 'null'}, {'videoNo': 'PI-603078841149297236', 'videoName': 'Rest in power, Ozzy Osbourne 🕊️🌈', 'startTime': 'null', 'endTime': 'null'}, {'videoNo': 'PI-602942945884246466', 'videoName': 'Elton John 🤝 John Lennon\\n\\nWatch more never before seen moments in the new Original Documentary, Elton John: Never Too Late. Streaming December 13 on #DisneyPlus. #EltonNeverTooLate', 'startTime': 'null', 'endTime': 'null'}, {'videoNo': 'PI-602700441880498328', 'videoName': 'Charlie XCX and Dua Lipa are leading the nods at this years Brit Awards, with nominations revealed ahead of the March 1 ceremomy.\\n\\n#charlixcx #brat #dua #dualipa #brits #britawards #britawards2025 #uknews ', 'startTime': 'null', 'endTime': 'null'}, {'videoNo': 'PI-602710507006333047', 'videoName': \"How Eminem CURED Ed Sheeran's Stutter 🤯 @eminem @Ed Sheeran #eminem #edsheeran #stan #rap #music #edit\", 'startTime': 'null', 'endTime': 'null'}, {'videoNo': 'PI-603073808039023471', 'videoName': 'Black Sabbath singer and rock legend Ozzy Osbourne has died at the age of 76. #OzzyOsbourne #BlackSabbath #HeavyMetal #MusicTok #MusicNews #Birmingham #News #BBCNews', 'startTime': 'null', 'endTime': 'null'}, {'videoNo': 'PI-603521765947347012', 'videoName': \"Watch Zoë Kravitz and Matt Reeves' full #DirectorsOnDirectors episode here. 🎥\", 'startTime': 'null', 'endTime': 'null'}, {'videoNo': 'PI-602702957733089490', 'videoName': '#TraceCyrus is opening up about family pain. Read more at the link in our bio. #BillyRayCyrus #NoahCyrus #MileyCyrus ', 'startTime': 'null', 'endTime': 'null'}, {'videoNo': 'PI-600640365418123346', 'videoName': 'Happy Birthday to a true icon, @paulmccartney 🥳👏\\n\\n#ladbible #paulmccartney #wholesome #thebeatles #johnlennon #georgeharrison #ringostarr', 'startTime': 'null', 'endTime': 'null'}, {'videoNo': 'PI-597221649426813155', 'videoName': 'As #BlackSabbath play their last show in Birmingham, former roadie Graham Frank Wright takes a look back into one of the most influential acts in the history of Metal and Heavy Rock.\\n\\n#heavymetal #70srockmusic', 'startTime': 'null', 'endTime': 'null'}, {'videoNo': 'PI-600947902470296551', 'videoName': 'Rocky III needed a sound to match its fight. Enter: Eye of the Tiger', 'startTime': 'null', 'endTime': 'null'}, {'videoNo': 'PI-602600307393958137', 'videoName': 'These are the 5️⃣ things @dierksbentley has to have on his #BrokenBranchesTour, kicking off in May 🎶 \\n\\n#country #countrymusic #dierksbentley #livemusic', 'startTime': 'null', 'endTime': 'null'}, {'videoNo': 'PI-602211341549310064', 'videoName': 'First Drafts of Rock w/ @Kevin Bacon: “Summer of ‘69” by @Bryan Adams #FallonTonight #TonightShow #KevinBacon #BryanAdams #JimmyFallon ', 'startTime': 'null', 'endTime': 'null'}, {'videoNo': 'PI-602048639371710535', 'videoName': 'Dave Allen, the bassist for British post-punk band Gang of Four, has died at 69 after a battle with dementia. His former bandmates shared the sad news with fans, telling them Dave passed away at home on Saturday. #DaveAllen #Punk #Band #GangOfFour ', 'startTime': 'null', 'endTime': 'null'}, {'videoNo': 'PI-603436195699101887', 'videoName': '#Kiss frontman Gene Simmons remembers the late #BlackSabbath frontman #OzzyOsbourne.', 'startTime': 'null', 'endTime': 'null'}, {'videoNo': 'PI-602577658370461962', 'videoName': 'Did you know them all ? #nostalgia #throwbacksongs ', 'startTime': 'null', 'endTime': 'null'}, {'videoNo': 'PI-603076324705309375', 'videoName': 'Ozzy Osbourne, the heavy metal legend who rose to fame in the group Black Sabbath, has died, his family said in a statement to CBS News. He was 76. Born John Michael Osbourne, the rocker was a pioneer in heavy metal music with both the band and in his solo career, winning five Grammys and inspiring countless artists. He also appeared alongside his family in their own MTV reality TV show \"The Osbournes\" in the early 2000s.\\n\\n\"It is with more sadness than mere words can convey that we have to repor', 'startTime': 'null', 'endTime': 'null'}, {'videoNo': 'PI-601973130029830168', 'videoName': 'Sweet Child Of Mine reimagined for father daughter dances 🥹\\n\\n#fatherdaughter #father #daughter #wedding #classicrock #sweetchildofmine #gunsnroses ', 'startTime': 'null', 'endTime': 'null'}, {'videoNo': 'PI-600565194258780429', 'videoName': 'Searching band shows you the greatest band of all time #band #metallica #kiss ', 'startTime': 'null', 'endTime': 'null'}, {'videoNo': 'PI-602834732996235827', 'videoName': 'Which one surprised you the most ? 🤔', 'startTime': 'null', 'endTime': 'null'}, {'videoNo': 'PI-597221649426813157', 'videoName': \"'We need each other.' \\n\\n#Liam and #NoelGallagher performed on the same stage together for the first time in 16 years.\\n\\n#Oasis\", 'startTime': 'null', 'endTime': 'null'}, {'videoNo': 'PI-602905197924192435', 'videoName': 'New Jersey Rep. Josh Gottheimer, a Democrat running for governor, recently shared his top songs from his Spotify Wrapped this year. However, the results he posted quickly fell under scrutiny, leading to accusations of pandering to Garden State voters. #joshgottheimer #spotifywrapped #brucespringsteen #newjersey #music #politics #news', 'startTime': 'null', 'endTime': 'null'}, {'videoNo': 'PI-602770904937796182', 'videoName': 'Which year had the best song ? ', 'startTime': 'null', 'endTime': 'null'}, {'videoNo': 'PI-603068775285264639', 'videoName': \"IT'S HERE GUYS!!! The full video is out! what do you guys think? \\nDon't forget to check out @realdominum for more 😁\\n@NapalmRecords #musicvideo #bigreveal #tiktokjesus #jesus \", 'startTime': 'null', 'endTime': 'null'}, {'videoNo': 'PI-598338325379682372', 'videoName': 'Adam Levine\\'s wife, Behati Prinsloo, replaces the Maroon 5 frontman in the band\\'s new music video for their song \"All Night.\" Prinsloo\\'s feature was Levine\\'s idea, as he joked, \"She\\'s just a lot, you know, better looking than me. Nicer.\" Levine also said the couple\\'s children were \"so happy\" to see their parents collaborate.\\n\\nMaroon 5 will be on the #TODAYShow plaza for a Citi Concert Series performance on August 1! Register for a chance to attend the concert at TODAY.com or tune in LIVE on our ', 'startTime': 'null', 'endTime': 'null'}, {'videoNo': 'PI-600997922749944643', 'videoName': '“Iris” has never hit harder 🥹 @Mattie & @Goo Goo Dolls #AmericanIdol', 'startTime': 'null', 'endTime': 'null'}, {'videoNo': 'PI-590887833410080768', 'videoName': \"Jeremy Allen White's blue eyes are GONE in the trailer for Springsteen: Deliver Me from Nowhere. Are you excited for this movie? #brucespringsteen #springsteen #delivermefromnowhere #nebraska #jeremyallenwhite #music #biopic #movie #film #ign #movies #drama #musical #movie #springsteendelivermefromnowhere\", 'startTime': 'null', 'endTime': 'null'}, {'videoNo': 'PI-603431164438515790', 'videoName': 'Ozzy Osbourne “was always just plain wonderful, heartfelt Ozzy,” Gene Simmons says of the pioneer, who he knew for decades.\\n\\nSimmons says Osbourne was “the kind of person I wish I was more like,” describing the Black Sabbath frontman as a “doting, loving father and devoted husband.” #ozzyosbourne #genesimmons ', 'startTime': 'null', 'endTime': 'null'}, {'videoNo': 'PI-590023179481780224', 'videoName': 'Vegas night 1 was 🔥 See you soon for NIGHT 2 🙌', 'startTime': 'null', 'endTime': 'null'}, {'videoNo': 'PI-602702957733089493', 'videoName': '#TraceCyrus wrote an emotional open letter to his father #BillyRayCyrus. #MileyCyrus #NoahCyrus #Parents #Family', 'startTime': 'null', 'endTime': 'null'}, {'videoNo': 'PI-600695428014542866', 'videoName': '“I’m past the point of even caring if I ever speak to him again,” #TraceCyrus wrote of his relationship with father #BillyRayCyrus. Read more at the link in our bio. ', 'startTime': 'null', 'endTime': 'null'}, {'videoNo': 'PI-603073808039023644', 'videoName': 'Legendary musician Ozzy Osbourne has died at the age of 76 #ozzyosbourne ', 'startTime': 'null', 'endTime': 'null'}, {'videoNo': 'PI-600273894812815554', 'videoName': 'Norman Harris owns one of the most popular rare guitar shops in the world. He told @Vladimir Duthiers how he helped George Harrison get his famed red guitar “Lucy” back. More Friday (7/11) on CBS Mornings.  #normanharris #georgeharrison #guitar ', 'startTime': 'null', 'endTime': 'null'}, {'videoNo': 'PI-603431164455293055', 'videoName': 'Black Sabbath say they\\'ve \"lost their brother\" just weeks after they played their final gig in Birmingham. #Ozzy #OzzyOsbourne #BlackSabbath #PrinceOfDarkness #Birmingham #HeavyMetal #Rock #AstonVilla #VillaPark#BBCNews', 'startTime': 'null', 'endTime': 'null'}, {'videoNo': 'PI-602355911050268774', 'videoName': 'Eating ur own furniture is WILD #morbidfacts #history #weirdtok #fyp  ', 'startTime': 'null', 'endTime': 'null'}, {'videoNo': 'PI-600684282868011048', 'videoName': 'Well, Im still processing that moment in Coachella- seems like the world is too. Mr Boone — you gave us all a gift. Bri\\n@Benson \\n.\\n#coachella #bensonboone #brianmay #queenband #bohemianrhapsody #guitartok #wewillrockyou #guitarist ', 'startTime': 'null', 'endTime': 'null'}, {'videoNo': 'PI-600273894779260955', 'videoName': 'Celebrating the 40th anniversary of Live Aid, co-organizer Bob Geldof sat down with CNN\\'s Bill Weir to discuss the 1985 concert that raised tens of billions of dollars for famine relief in Ethiopia. Watch CNN Original Series \"Live Aid: When Rock ’n’ Roll Took On the World\" Sundays at 9pm ET/PT, premiering July 13.', 'startTime': 'null', 'endTime': 'null'}, {'videoNo': 'PI-593715379600232448', 'videoName': 'BLUDFEST YEAR 2 OFFICIAL AFTER MOVIE. Our culture. Our movement. Thank you. See you next year. 🦇', 'startTime': 'null', 'endTime': 'null'}, {'videoNo': 'PI-602895131619758630', 'videoName': '#TheBeatles are heading to the big screen! Who would you cast as #PaulMcCartney, #JohnLennon, #RingoStarr, and #GeorgeHarrison ? 🎤 #PaulMescal #HarrisDickinson #BarryKeoghan #JosephQuinn #CharlieRowe ', 'startTime': 'null', 'endTime': 'null'}, {'videoNo': 'PI-602758322478781086', 'videoName': 'I Dissagree With The Beatles | @Ryan Pineda ', 'startTime': 'null', 'endTime': 'null'}, {'videoNo': 'PI-603018443805036960', 'videoName': \"Journey back to 1964 and experience Beatlemania like never before. From producer Martin Scorsese and director David Tedeschi, stream Beatles '64, an original documentary, only on #DisneyPlus November 29.\", 'startTime': 'null', 'endTime': 'null'}, {'videoNo': 'PI-603071291733447213', 'videoName': 'David Letterman posts Green Day ‘American Idiot’ clip the day of Trump election victory.', 'startTime': 'null', 'endTime': 'null'}, {'videoNo': 'PI-602796987661816324', 'videoName': 'Bruno Mars has mastered so many genres #brunomars #music #hits ', 'startTime': 'null', 'endTime': 'null'}, {'videoNo': 'PI-600997922754138413', 'videoName': 'Did someone say Jonas Brothers fan cam??! 🎥 Camp Rock, Camp Rock 2, Jonas, Jonas Brothers: The Concert Experience', 'startTime': 'null', 'endTime': 'null'}, {'videoNo': 'PI-596470683555467266', 'videoName': 'What’d I miss? #fyp #rank #singing #coldplay #concert #live ', 'startTime': 'null', 'endTime': 'null'}, {'videoNo': 'PI-602048639371710543', 'videoName': 'Blondie drummer Clem Burke has passed away aged 70.\\n\\nThe legendary rock n\\' roller died following a \"private battle with cancer\".\\n\\n#blondie #clemburke #debbieharry #drummer #news', 'startTime': 'null', 'endTime': 'null'}, {'videoNo': 'PI-600998367572660839', 'videoName': 'not the \"sad olive girl\" 🫣🫒 #angusthongsandperfectsnogging #georgiagroome #aarontaylorjohnson #kimberleynixon #eleanortomlinson #primevideo', 'startTime': 'null', 'endTime': 'null'}, {'videoNo': 'PI-597221649422618793', 'videoName': 'CNN celebrates July 4th featuring a performance from Sting singing his hit “Every Breath You Take”.', 'startTime': 'null', 'endTime': 'null'}, {'videoNo': 'PI-603078841153491246', 'videoName': \"'PRINCE OF DARKNESS': From prison time to platinum records, Ozzy’s journey from troubled teen to heavy metal icon reshaped rock forever. The Black Sabbath frontman credited The Beatles for inspiring him — and went on to terrify critics, thrill fans, and define a genre.\", 'startTime': 'null', 'endTime': 'null'}, {'videoNo': 'PI-596335107464368175', 'videoName': 'Replying to @Joaquin Reads 📚🇨🇦 One of the biggest bands of our time is back! \\n20 years later, @Maroon 5 kicks off their LOVE IS LIKE Tour this fall - starting in Phoenix, AZ, where everything changed for them. \\nTickets available at @Live Nation Concerts #LiveNationPartner \\xa0\\n\\n#singer #songwriter #maroon5 #band #musicproducer #popmusic #demo #grammys #album #johnmayer #adamlevine #songwriting #viralsong #talent #rockmusic  #inspirational #livemusic #viralvideo #trendingsong @Adam Levine ', 'startTime': 'null', 'endTime': 'null'}, {'videoNo': 'PI-600684282838650907', 'videoName': '#BrianWilson, the musical visionary who captured the optimism of early 1960s youth culture as leader of the #BeachBoys, has died, his family says.', 'startTime': 'null', 'endTime': 'null'}, {'videoNo': 'PI-590022887012962304', 'videoName': '@brianmayreally performing with his band at the Brixton Academy in London on this day in 1993! Who w', 'startTime': 'null', 'endTime': 'null'}, {'videoNo': 'PI-603078841153491292', 'videoName': 'Black Sabbath frontman Ozzy Osbourne has died at the age of 76.\\n\\nA statement from his family said: “It is with more sadness than mere words can convey that we have to report that our beloved Ozzy Osbourne has passed away this morning.\\n#news #itvnews #ozzyosbourne', 'startTime': 'null', 'endTime': 'null'}, {'videoNo': 'PI-602405389744607262', 'videoName': 'Did you know them all ? 🤔', 'startTime': 'null', 'endTime': 'null'}, {'videoNo': 'PI-602887581159526671', 'videoName': 'From #BobDylan’s style to how he met his costar #ElleFanning, #timotheechalamet bares his soul in the latest installment of Vogue’s #OffTheCuff. Tap “watch now” for more. ', 'startTime': 'null', 'endTime': 'null'}, {'videoNo': 'PI-596335107464368176', 'videoName': 'One of the biggest bands of our time is back! \\n20 years later, @Maroon 5 kicks off their LOVE IS LIKE Tour this fall - starting in Phoenix, AZ, where everything changed for them. \\nTickets available at @Live Nation Concerts #LiveNationPartner\\xa0\\n\\n#singer #songwriter #maroon5 #band #musicproducer #popmusic #demo #grammys #album #johnmayer #adamlevine #songwriting #viralsong #talent #rockmusic  #inspirational #arizona #livemusic #viralvideo #trendingsong @Adam Levine  ', 'startTime': 'null', 'endTime': 'null'}, {'videoNo': 'PI-603058714815107643', 'videoName': 'My Chemical Romance star Bob Bryar has been found dead aged 44.\\n\\n#CelebDeath #mychemicalromance #ShowbizNews #rock ', 'startTime': 'null', 'endTime': 'null'}, {'videoNo': 'PI-602660707003142152', 'videoName': 'Replying to @Lucía How Maroon 5’s ‘Girls Like You’ Became a Massive Hit… By Accident\\n\\n#singer #songwriter #maroon5 #adamlevine #girlslikeyou #band #hitsong #musicproducer #demo #billboard #popmusic #trendingsong @Maroon 5 @Adam Levine ', 'startTime': 'null', 'endTime': 'null'}], 'success': True, 'failed': False}\n"
     ]
    }
   ],
   "source": [
    "import requests\n",
    "\n",
    "headers = {\"Authorization\": API_KEY}  # API key\n",
    "json_body = {\n",
    "    \"search_param\": \"who is the most famous rock star\",  # The search query\n",
    "    \"search_type\": \"BY_VIDEO\" # 'BY_AUDIO' or 'BY_VIDEO' or 'BY_CLIP'\n",
    "}\n",
    "\n",
    "response = requests.post(\n",
    "    \"https://api.memories.ai/serve/api/v1/search_public\",\n",
    "    headers=headers,\n",
    "    json=json_body\n",
    ")\n",
    "\n",
    "print(response.json())"
   ]
  },
  {
   "cell_type": "markdown",
   "id": "0de62c79",
   "metadata": {},
   "source": [
    "# Public Video transcription\n",
    "After obtaining the videoNo from the search, you can use the API to retrieve the transcription result for the video from public video sources."
   ]
  },
  {
   "cell_type": "code",
   "execution_count": null,
   "id": "8993b48c",
   "metadata": {},
   "outputs": [
    {
     "name": "stdout",
     "output_type": "stream",
     "text": [
      "Status: 200\n",
      "Video Transcription Response: {'code': '0000', 'msg': 'success', 'data': {'videoNo': 'PI-603521765934764187', 'transcriptions': [{'index': 0, 'content': 'Mike Shinoda is shown speaking, wearing a brown hooded jacket. Text on the screen reads \"MIKE SHINODA ON THE INFLUENCE OF BEASTIE BOYS\". He states, \"I heard things that were bridges.\"', 'startTime': '0', 'endTime': '3'}, {'index': 1, 'content': 'Mike Shinoda continues speaking, stating, \"There were connectors.\"', 'startTime': '3', 'endTime': '5'}, {'index': 2, 'content': 'Mike Shinoda says, \"It started with Beastie Boys\". The screen then shows an image of the Beastie Boys, with text overlayed.', 'startTime': '5', 'endTime': '7'}, {'index': 3, 'content': 'The image of the Beastie Boys remains on screen. Text reads \"sampling Zeppelin\".', 'startTime': '7', 'endTime': '9'}, {'index': 4, 'content': 'Mike Shinoda is shown speaking again, stating, \"I didn\\'t just listen to the Beastie Boys record,\"', 'startTime': '9', 'endTime': '11'}, {'index': 5, 'content': 'An image of an airplane tail with the \"BEASTIE BOYS\" logo is displayed. Text reads \"I didn\\'t just listen to the Beastie Boys record,\"', 'startTime': '11', 'endTime': '12'}, {'index': 6, 'content': 'The airplane tail image continues, with text stating, \"and memorize that,\"', 'startTime': '12', 'endTime': '13'}, {'index': 7, 'content': 'The airplane tail image persists, and the text now reads \"and move on to the Run-DMC record and blah, blah.\"', 'startTime': '13', 'endTime': '15'}, {'index': 8, 'content': 'Mike Shinoda is shown speaking, saying, \"I heard those samples and I realized,\"', 'startTime': '15', 'endTime': '17'}, {'index': 9, 'content': 'Mike Shinoda states, \"Oh, that\\'s \"The Ocean\" by Zeppelin,\"', 'startTime': '17', 'endTime': '18'}, {'index': 10, 'content': 'A black and white image shows two musicians on stage. Text reads \"that\\'s \"When The Levee Breaks\" by Zeppelin.\"', 'startTime': '18', 'endTime': '20'}, {'index': 11, 'content': 'Mike Shinoda is shown speaking, saying, \"And a little while later,\"', 'startTime': '20', 'endTime': '22'}, {'index': 12, 'content': 'Mike Shinoda continues, \"bands like\".', 'startTime': '22', 'endTime': '23'}, {'index': 13, 'content': 'A black and white image shows a singer on stage. Text reads \"bands like Rage\".', 'startTime': '23', 'endTime': '24'}, {'index': 14, 'content': 'Mike Shinoda is shown speaking, saying, \"and there was a soundtrack\".', 'startTime': '24', 'endTime': '26'}, {'index': 15, 'content': 'Mike Shinoda speaks, asking, \"called \\'Judgment Night.\\' Do you remember that?\"', 'startTime': '26', 'endTime': '28'}, {'index': 16, 'content': 'An image displays the album cover for \"JUDGMENT NIGHT\". Text lists various artists and includes \"PARENTAL ADVISORY EXPLICIT LYRICS\".', 'startTime': '28', 'endTime': '30'}, {'index': 17, 'content': 'A man with short hair and a beard, wearing a brown hooded sweatshirt and dark pants, is seated on a chair. He is gesturing with his hands as he speaks. The background features a dark blue wall with some acoustic paneling and a large black screen. A small black and white logo with the word COMPLEX is visible in the upper right corner.', 'startTime': '31', 'endTime': '36'}, {'index': 18, 'content': 'The man continues speaking, gesturing with his hands. The text \"These\" appears on the screen.', 'startTime': '36', 'endTime': '37'}, {'index': 19, 'content': 'The man continues speaking and gesturing. The text \"These guys like\" appears on the screen.', 'startTime': '37', 'endTime': '39'}, {'index': 20, 'content': 'The man is speaking and gesturing, with the text \"This is the kind of music that I\\'m listening to.\" displayed on the screen.', 'startTime': '39', 'endTime': '42'}, {'index': 21, 'content': 'The man continues to speak and gesture, and the text \"Once you start thinking about that,\" is shown on the screen.', 'startTime': '42', 'endTime': '44'}, {'index': 22, 'content': 'The man continues speaking and gesturing, with the text \"you can just realize\" appearing on the screen.', 'startTime': '44', 'endTime': '45'}, {'index': 23, 'content': 'The man continues to speak and gesture, and the text \"there\\'s so many ways to blend it.\" is displayed on the screen.', 'startTime': '45', 'endTime': '46'}]}, 'success': True, 'failed': False}\n"
     ]
    }
   ],
   "source": [
    "headers = {\"Authorization\": API_KEY}  # API key\n",
    "params = {\"video_no\": \"PI-603521765934764187\"} #the video number you get from the search result\n",
    "\n",
    "response = requests.get(\"https://api.memories.ai/serve/api/v1/get_public_video_transcription\", headers=headers, params=params)\n",
    "\n",
    "print(\"Status:\", response.status_code)\n",
    "try:\n",
    "    print(\"Video Transcription Response:\", response.json())\n",
    "except Exception:\n",
    "    print(\"Response Text:\", response.text)"
   ]
  },
  {
   "cell_type": "markdown",
   "id": "970d5392",
   "metadata": {},
   "source": [
    "# Public audio transcription\n",
    "You can use the API to retrieve the transcription result specifically from the audio track of the video from public video sources."
   ]
  },
  {
   "cell_type": "code",
   "execution_count": 5,
   "id": "f071e49e",
   "metadata": {},
   "outputs": [
    {
     "name": "stdout",
     "output_type": "stream",
     "text": [
      "Status: 200\n",
      "Audio Transcription Response: {'code': '0000', 'msg': 'success', 'data': {'videoNo': 'PI-603521765934764187', 'transcriptions': [{'index': 0, 'content': ' I heard things that were bridges, that were connectors.', 'startTime': '0', 'endTime': '3'}, {'index': 1, 'content': ' Like, it started with Beastie Boys sampling Zeppelin and Hendrix.', 'startTime': '4', 'endTime': '8'}, {'index': 2, 'content': \" I didn't just, like, listen to the Beastie Boys record and memorize that\", 'startTime': '8', 'endTime': '11'}, {'index': 3, 'content': ' and move on to the Run-DMC record and blah, blah, blah.', 'startTime': '11', 'endTime': '13'}, {'index': 4, 'content': \" I heard those samples and I realized, oh, that's The Ocean by Zeppelin.\", 'startTime': '13', 'endTime': '17'}, {'index': 5, 'content': \" That's When the Levee Breaks by Zeppelin.\", 'startTime': '17', 'endTime': '18'}, {'index': 6, 'content': ' And a little while later, bands like Rage and Chili Peppers', 'startTime': '19', 'endTime': '23'}, {'index': 7, 'content': ' and there was a soundtrack called Judgment Night.', 'startTime': '23', 'endTime': '26'}, {'index': 8, 'content': ' Do you remember that?', 'startTime': '26', 'endTime': '26'}, {'index': 9, 'content': ' With Adele and Dinosaur Juniors.', 'startTime': '26', 'endTime': '28'}, {'index': 10, 'content': ' Right, so, like, that had Helmet and House of Pain together on it.', 'startTime': '28', 'endTime': '32'}, {'index': 11, 'content': ' And stuff like that, I was like, this is it.', 'startTime': '33', 'endTime': '36'}, {'index': 12, 'content': ' These guys like what I like.', 'startTime': '36', 'endTime': '39'}, {'index': 13, 'content': \" This is the kind of music that I'm listening to.\", 'startTime': '39', 'endTime': '41'}, {'index': 14, 'content': ' Once you start thinking about that, you can just realize', 'startTime': '41', 'endTime': '43'}, {'index': 15, 'content': \" there's so many ways to blend it.\", 'startTime': '43', 'endTime': '46'}]}, 'failed': False, 'success': True}\n"
     ]
    }
   ],
   "source": [
    "headers = {\"Authorization\": API_KEY}  # API key\n",
    "params = {\"video_no\": \"PI-603521765934764187\"}\n",
    "\n",
    "response = requests.get(\"https://api.memories.ai/serve/api/v1/get_public_audio_transcription\", headers=headers, params=params)\n",
    "\n",
    "print(\"Status:\", response.status_code)\n",
    "try:\n",
    "    print(\"Audio Transcription Response:\", response.json())\n",
    "except Exception:\n",
    "    print(\"Response Text:\", response.text)"
   ]
  },
  {
   "cell_type": "markdown",
   "id": "50beeb3c",
   "metadata": {},
   "source": [
    "# Get public video details\n",
    "You can use the API to get the details about the public video, including duration, status, video name, URL and blogger ID."
   ]
  },
  {
   "cell_type": "code",
   "execution_count": 6,
   "id": "a3ffdfde",
   "metadata": {},
   "outputs": [
    {
     "name": "stdout",
     "output_type": "stream",
     "text": [
      "Status: 200\n",
      "Video Detail Response: {'code': '0000', 'msg': 'success', 'data': {'duration': '45', 'status': 'PARSE', 'video_no': 'PI-603521765934764187', 'video_name': \"Mike Shinoda talks about the Beastie Boys' massive impact on his music, sharing how he’d dive into their tracks, dissecting the samples and the blend of genres that shaped his own sound on the latest episode of #ideageneration💡\\n\\n#mikeshinoda #beastieboys #linkinpark\", 'create_time': '1753350037295', 'video_url': 'https://www.tiktok.com/player/v1/7450672956881030430', 'blogger_id': 'complex'}, 'success': True, 'failed': False}\n"
     ]
    }
   ],
   "source": [
    "headers = {\"Authorization\": API_KEY}  # API key\n",
    "params = {\"video_no\": \"PI-603521765934764187\"}\n",
    "response = requests.get(\"https://api.memories.ai/serve/api/v1/get_public_video_detail\", headers=headers, params=params)\n",
    "\n",
    "print(\"Status:\", response.status_code)\n",
    "try:\n",
    "    print(\"Video Detail Response:\", response.json())\n",
    "except Exception:\n",
    "    print(\"Response Text:\", response.text)"
   ]
  }
 ],
 "metadata": {
  "kernelspec": {
   "display_name": "Python 3",
   "language": "python",
   "name": "python3"
  },
  "language_info": {
   "codemirror_mode": {
    "name": "ipython",
    "version": 3
   },
   "file_extension": ".py",
   "mimetype": "text/x-python",
   "name": "python",
   "nbconvert_exporter": "python",
   "pygments_lexer": "ipython3",
   "version": "3.12.9"
  }
 },
 "nbformat": 4,
 "nbformat_minor": 5
}
